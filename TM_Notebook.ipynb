{
 "cells": [
  {
   "cell_type": "markdown",
   "metadata": {},
   "source": [
    "# Text Mining & Search\n",
    "Authors\n",
    "- Alexandre Crivellari\n",
    "- Andrea Muscio\n",
    "\n",
    "# Introduction\n",
    "\n",
    "[TO DO]"
   ]
  },
  {
   "cell_type": "markdown",
   "metadata": {},
   "source": [
    "# Workspace setting"
   ]
  },
  {
   "cell_type": "markdown",
   "metadata": {},
   "source": [
    "## Dependencies"
   ]
  },
  {
   "cell_type": "code",
   "execution_count": 11,
   "metadata": {},
   "outputs": [],
   "source": [
    "#%pip install pandas numpy matplotlib seaborn scikit-learn\n",
    "#%pip install torch torchvision torchaudio --index-url https://download.pytorch.org/whl/cu121"
   ]
  },
  {
   "cell_type": "markdown",
   "metadata": {},
   "source": [
    "## Libraries"
   ]
  },
  {
   "cell_type": "code",
   "execution_count": 1,
   "metadata": {},
   "outputs": [
    {
     "name": "stderr",
     "output_type": "stream",
     "text": [
      "c:\\Users\\alexc\\anaconda3\\envs\\TorchP11\\Lib\\site-packages\\tqdm\\auto.py:21: TqdmWarning: IProgress not found. Please update jupyter and ipywidgets. See https://ipywidgets.readthedocs.io/en/stable/user_install.html\n",
      "  from .autonotebook import tqdm as notebook_tqdm\n"
     ]
    },
    {
     "data": {
      "text/plain": [
       "<torch._C.Generator at 0x22ca514be90>"
      ]
     },
     "execution_count": 1,
     "metadata": {},
     "output_type": "execute_result"
    }
   ],
   "source": [
    "# Import necessary libraries\n",
    "import pandas as pd\n",
    "import numpy as np\n",
    "import matplotlib.pyplot as plt\n",
    "import seaborn as sns\n",
    "from sklearn.preprocessing import LabelEncoder\n",
    "from sklearn.feature_extraction.text import TfidfVectorizer\n",
    "from sklearn.model_selection import train_test_split, cross_val_score\n",
    "from sklearn.ensemble import RandomForestClassifier\n",
    "from sklearn.metrics import accuracy_score, classification_report, confusion_matrix\n",
    "import torch\n",
    "from transformers import BertTokenizer, BertForSequenceClassification, AdamW\n",
    "from torch.utils.data import DataLoader, TensorDataset\n",
    "\n",
    "# Set random seed for reproducibility\n",
    "np.random.seed(42)\n",
    "torch.manual_seed(42)"
   ]
  },
  {
   "cell_type": "markdown",
   "metadata": {},
   "source": [
    "## Dataset upload and exploration"
   ]
  },
  {
   "cell_type": "code",
   "execution_count": 2,
   "metadata": {},
   "outputs": [
    {
     "data": {
      "text/html": [
       "<div>\n",
       "<style scoped>\n",
       "    .dataframe tbody tr th:only-of-type {\n",
       "        vertical-align: middle;\n",
       "    }\n",
       "\n",
       "    .dataframe tbody tr th {\n",
       "        vertical-align: top;\n",
       "    }\n",
       "\n",
       "    .dataframe thead th {\n",
       "        text-align: right;\n",
       "    }\n",
       "</style>\n",
       "<table border=\"1\" class=\"dataframe\">\n",
       "  <thead>\n",
       "    <tr style=\"text-align: right;\">\n",
       "      <th></th>\n",
       "      <th>id</th>\n",
       "      <th>label</th>\n",
       "      <th>statement</th>\n",
       "      <th>subject</th>\n",
       "      <th>speaker</th>\n",
       "      <th>job_title</th>\n",
       "      <th>state_info</th>\n",
       "      <th>party_affiliation</th>\n",
       "      <th>barely_true_counts</th>\n",
       "      <th>false_counts</th>\n",
       "      <th>half_true_counts</th>\n",
       "      <th>mostly_true_counts</th>\n",
       "      <th>pants_on_fire_counts</th>\n",
       "      <th>context</th>\n",
       "    </tr>\n",
       "  </thead>\n",
       "  <tbody>\n",
       "    <tr>\n",
       "      <th>0</th>\n",
       "      <td>2635.json</td>\n",
       "      <td>false</td>\n",
       "      <td>Says the Annies List political group supports ...</td>\n",
       "      <td>abortion</td>\n",
       "      <td>dwayne-bohac</td>\n",
       "      <td>State representative</td>\n",
       "      <td>Texas</td>\n",
       "      <td>republican</td>\n",
       "      <td>0.0</td>\n",
       "      <td>1.0</td>\n",
       "      <td>0.0</td>\n",
       "      <td>0.0</td>\n",
       "      <td>0.0</td>\n",
       "      <td>a mailer</td>\n",
       "    </tr>\n",
       "    <tr>\n",
       "      <th>1</th>\n",
       "      <td>10540.json</td>\n",
       "      <td>half-true</td>\n",
       "      <td>When did the decline of coal start? It started...</td>\n",
       "      <td>energy,history,job-accomplishments</td>\n",
       "      <td>scott-surovell</td>\n",
       "      <td>State delegate</td>\n",
       "      <td>Virginia</td>\n",
       "      <td>democrat</td>\n",
       "      <td>0.0</td>\n",
       "      <td>0.0</td>\n",
       "      <td>1.0</td>\n",
       "      <td>1.0</td>\n",
       "      <td>0.0</td>\n",
       "      <td>a floor speech.</td>\n",
       "    </tr>\n",
       "    <tr>\n",
       "      <th>2</th>\n",
       "      <td>324.json</td>\n",
       "      <td>mostly-true</td>\n",
       "      <td>Hillary Clinton agrees with John McCain \"by vo...</td>\n",
       "      <td>foreign-policy</td>\n",
       "      <td>barack-obama</td>\n",
       "      <td>President</td>\n",
       "      <td>Illinois</td>\n",
       "      <td>democrat</td>\n",
       "      <td>70.0</td>\n",
       "      <td>71.0</td>\n",
       "      <td>160.0</td>\n",
       "      <td>163.0</td>\n",
       "      <td>9.0</td>\n",
       "      <td>Denver</td>\n",
       "    </tr>\n",
       "    <tr>\n",
       "      <th>3</th>\n",
       "      <td>1123.json</td>\n",
       "      <td>false</td>\n",
       "      <td>Health care reform legislation is likely to ma...</td>\n",
       "      <td>health-care</td>\n",
       "      <td>blog-posting</td>\n",
       "      <td>NaN</td>\n",
       "      <td>NaN</td>\n",
       "      <td>none</td>\n",
       "      <td>7.0</td>\n",
       "      <td>19.0</td>\n",
       "      <td>3.0</td>\n",
       "      <td>5.0</td>\n",
       "      <td>44.0</td>\n",
       "      <td>a news release</td>\n",
       "    </tr>\n",
       "    <tr>\n",
       "      <th>4</th>\n",
       "      <td>9028.json</td>\n",
       "      <td>half-true</td>\n",
       "      <td>The economic turnaround started at the end of ...</td>\n",
       "      <td>economy,jobs</td>\n",
       "      <td>charlie-crist</td>\n",
       "      <td>NaN</td>\n",
       "      <td>Florida</td>\n",
       "      <td>democrat</td>\n",
       "      <td>15.0</td>\n",
       "      <td>9.0</td>\n",
       "      <td>20.0</td>\n",
       "      <td>19.0</td>\n",
       "      <td>2.0</td>\n",
       "      <td>an interview on CNN</td>\n",
       "    </tr>\n",
       "  </tbody>\n",
       "</table>\n",
       "</div>"
      ],
      "text/plain": [
       "           id        label                                          statement  \\\n",
       "0   2635.json        false  Says the Annies List political group supports ...   \n",
       "1  10540.json    half-true  When did the decline of coal start? It started...   \n",
       "2    324.json  mostly-true  Hillary Clinton agrees with John McCain \"by vo...   \n",
       "3   1123.json        false  Health care reform legislation is likely to ma...   \n",
       "4   9028.json    half-true  The economic turnaround started at the end of ...   \n",
       "\n",
       "                              subject         speaker             job_title  \\\n",
       "0                            abortion    dwayne-bohac  State representative   \n",
       "1  energy,history,job-accomplishments  scott-surovell        State delegate   \n",
       "2                      foreign-policy    barack-obama             President   \n",
       "3                         health-care    blog-posting                   NaN   \n",
       "4                        economy,jobs   charlie-crist                   NaN   \n",
       "\n",
       "  state_info party_affiliation  barely_true_counts  false_counts  \\\n",
       "0      Texas        republican                 0.0           1.0   \n",
       "1   Virginia          democrat                 0.0           0.0   \n",
       "2   Illinois          democrat                70.0          71.0   \n",
       "3        NaN              none                 7.0          19.0   \n",
       "4    Florida          democrat                15.0           9.0   \n",
       "\n",
       "   half_true_counts  mostly_true_counts  pants_on_fire_counts  \\\n",
       "0               0.0                 0.0                   0.0   \n",
       "1               1.0                 1.0                   0.0   \n",
       "2             160.0               163.0                   9.0   \n",
       "3               3.0                 5.0                  44.0   \n",
       "4              20.0                19.0                   2.0   \n",
       "\n",
       "               context  \n",
       "0             a mailer  \n",
       "1      a floor speech.  \n",
       "2               Denver  \n",
       "3       a news release  \n",
       "4  an interview on CNN  "
      ]
     },
     "execution_count": 2,
     "metadata": {},
     "output_type": "execute_result"
    }
   ],
   "source": [
    "# Define the column names\n",
    "columns = ['id', 'label', 'statement', 'subject', 'speaker', 'job_title', 'state_info', \n",
    "           'party_affiliation', 'barely_true_counts', 'false_counts', 'half_true_counts', \n",
    "           'mostly_true_counts', 'pants_on_fire_counts', 'context']\n",
    "\n",
    "# Read the TSV files\n",
    "train_df = pd.read_csv('train.tsv', sep='\\t', names=columns)\n",
    "valid_df = pd.read_csv('valid.tsv', sep='\\t', names=columns)\n",
    "test_df = pd.read_csv('test.tsv', sep='\\t', names=columns)\n",
    "\n",
    "# Display the first few rows of the training data\n",
    "train_df.head()"
   ]
  },
  {
   "cell_type": "code",
   "execution_count": 3,
   "metadata": {},
   "outputs": [
    {
     "name": "stdout",
     "output_type": "stream",
     "text": [
      "Index(['id', 'label', 'statement', 'subject', 'speaker', 'job_title',\n",
      "       'state_info', 'party_affiliation', 'barely_true_counts', 'false_counts',\n",
      "       'half_true_counts', 'mostly_true_counts', 'pants_on_fire_counts',\n",
      "       'context'],\n",
      "      dtype='object')\n"
     ]
    }
   ],
   "source": [
    "print(train_df.columns)"
   ]
  },
  {
   "cell_type": "code",
   "execution_count": 9,
   "metadata": {},
   "outputs": [
    {
     "name": "stdout",
     "output_type": "stream",
     "text": [
      "id                      0\n",
      "label                   0\n",
      "statement               0\n",
      "subject                 0\n",
      "speaker                 0\n",
      "job_title               0\n",
      "state_info              0\n",
      "party_affiliation       0\n",
      "barely_true_counts      0\n",
      "false_counts            0\n",
      "half_true_counts        0\n",
      "mostly_true_counts      0\n",
      "pants_on_fire_counts    0\n",
      "context                 0\n",
      "label_encoded           0\n",
      "statement_length        0\n",
      "total_statements        0\n",
      "dtype: int64\n",
      "label\n",
      "half-true      0.206445\n",
      "false          0.194824\n",
      "mostly-true    0.191602\n",
      "true           0.163672\n",
      "barely-true    0.161523\n",
      "pants-fire     0.081934\n",
      "Name: proportion, dtype: float64\n"
     ]
    },
    {
     "data": {
      "image/png": "[encoded data removed]",
      "text/plain": [
       "<Figure size 1000x600 with 1 Axes>"
      ]
     },
     "metadata": {},
     "output_type": "display_data"
    }
   ],
   "source": [
    "# Check for missing values\n",
    "print(train_df.isnull().sum())\n",
    "\n",
    "# Handle missing values (if any)\n",
    "train_df = train_df.fillna('unknown')\n",
    "valid_df = valid_df.fillna('unknown')\n",
    "test_df = test_df.fillna('unknown')\n",
    "\n",
    "# Handle missing values\n",
    "categorical_columns = ['subject', 'speaker', 'job_title', 'state_info', 'party_affiliation', 'context']\n",
    "numeric_columns = ['barely_true_counts', 'false_counts', 'half_true_counts', 'mostly_true_counts', 'pants_on_fire_counts']\n",
    "\n",
    "# For categorical columns, fill with 'Unknown' instead of 'unknown'\n",
    "for col in categorical_columns:\n",
    "    train_df[col] = train_df[col].fillna('Unknown')\n",
    "    valid_df[col] = valid_df[col].fillna('Unknown')\n",
    "    test_df[col] = test_df[col].fillna('Unknown')\n",
    "\n",
    "# For numeric columns, ensure they are numeric and fill with median\n",
    "for col in numeric_columns:\n",
    "    train_df[col] = pd.to_numeric(train_df[col], errors='coerce')\n",
    "    valid_df[col] = pd.to_numeric(valid_df[col], errors='coerce')\n",
    "    test_df[col] = pd.to_numeric(test_df[col], errors='coerce')\n",
    "    \n",
    "    median_value = train_df[col].median()\n",
    "    train_df[col] = train_df[col].fillna(median_value)\n",
    "    valid_df[col] = valid_df[col].fillna(median_value)\n",
    "    test_df[col] = test_df[col].fillna(median_value)\n",
    "\n",
    "# Encode labels\n",
    "le = LabelEncoder()\n",
    "train_df['label_encoded'] = le.fit_transform(train_df['label'])\n",
    "valid_df['label_encoded'] = le.transform(valid_df['label'])\n",
    "test_df['label_encoded'] = le.transform(test_df['label'])\n",
    "\n",
    "# Display class distribution\n",
    "print(train_df['label'].value_counts(normalize=True))\n",
    "\n",
    "# Visualize class distribution\n",
    "plt.figure(figsize=(10, 6))\n",
    "sns.countplot(x='label', data=train_df)\n",
    "plt.title('Class Distribution in Training Data')\n",
    "plt.xticks(rotation=45)\n",
    "plt.show()"
   ]
  },
  {
   "cell_type": "markdown",
   "metadata": {},
   "source": [
    "## Feature Engineering"
   ]
  },
  {
   "cell_type": "code",
   "execution_count": 10,
   "metadata": {},
   "outputs": [],
   "source": [
    "# Step 2: Feature Engineering (updated)\n",
    "\n",
    "# Create a feature for statement length\n",
    "train_df['statement_length'] = train_df['statement'].str.len()\n",
    "valid_df['statement_length'] = valid_df['statement'].str.len()\n",
    "test_df['statement_length'] = test_df['statement'].str.len()\n",
    "\n",
    "# Aggregate count features\n",
    "count_columns = ['barely_true_counts', 'false_counts', 'half_true_counts', \n",
    "                 'mostly_true_counts', 'pants_on_fire_counts']\n",
    "\n",
    "train_df['total_statements'] = train_df[count_columns].sum(axis=1)\n",
    "valid_df['total_statements'] = valid_df[count_columns].sum(axis=1)\n",
    "test_df['total_statements'] = test_df[count_columns].sum(axis=1)"
   ]
  },
  {
   "cell_type": "markdown",
   "metadata": {},
   "source": [
    "# (Task 1) Text Classification\n",
    "\n",
    "Single-Label Multi-Class"
   ]
  },
  {
   "cell_type": "markdown",
   "metadata": {},
   "source": [
    "## Model Selection and Training\n",
    "\n",
    "[Descrizione di cosa faremo]"
   ]
  },
  {
   "cell_type": "markdown",
   "metadata": {},
   "source": [
    "### Traditional ML Model (Random Forest)\n",
    "\n",
    "[Descrizione del modello]"
   ]
  },
  {
   "cell_type": "code",
   "execution_count": 16,
   "metadata": {},
   "outputs": [
    {
     "name": "stdout",
     "output_type": "stream",
     "text": [
      "Random Forest Performance:\n",
      "              precision    recall  f1-score   support\n",
      "\n",
      "        true       0.47      0.28      0.35       237\n",
      " mostly-true       0.44      0.60      0.51       263\n",
      "   half-true       0.40      0.53      0.45       248\n",
      " barely-true       0.42      0.54      0.47       251\n",
      "       false       0.76      0.38      0.51       116\n",
      "  pants-fire       0.65      0.25      0.36       169\n",
      "\n",
      "    accuracy                           0.45      1284\n",
      "   macro avg       0.52      0.43      0.44      1284\n",
      "weighted avg       0.49      0.45      0.44      1284\n",
      "\n"
     ]
    },
    {
     "data": {
      "image/png": "[encoded data removed]",
      "text/plain": [
       "<Figure size 1000x800 with 2 Axes>"
      ]
     },
     "metadata": {},
     "output_type": "display_data"
    }
   ],
   "source": [
    "# Prepare features for Random Forest\n",
    "tfidf = TfidfVectorizer(max_features=5000)\n",
    "X_train_tfidf = tfidf.fit_transform(train_df['statement'])\n",
    "X_valid_tfidf = tfidf.transform(valid_df['statement'])\n",
    "\n",
    "# Select only numeric features\n",
    "numeric_features = ['statement_length', 'total_statements'] + count_columns\n",
    "\n",
    "# Combine TF-IDF features with numeric features\n",
    "X_train = np.hstack((X_train_tfidf.toarray(), train_df[numeric_features]))\n",
    "X_valid = np.hstack((X_valid_tfidf.toarray(), valid_df[numeric_features]))\n",
    "\n",
    "y_train = train_df['label_encoded']\n",
    "y_valid = valid_df['label_encoded']\n",
    "\n",
    "# Train Random Forest model\n",
    "rf_model = RandomForestClassifier(n_estimators=100, random_state=42)\n",
    "rf_model.fit(X_train, y_train)\n",
    "\n",
    "# Make predictions on validation set\n",
    "y_pred_rf = rf_model.predict(X_valid)\n",
    "\n",
    "# Define the correct order of labels\n",
    "correct_order = ['true', 'mostly-true', 'half-true', 'barely-true', 'false', 'pants-fire']\n",
    "\n",
    "# Ensure the LabelEncoder uses this order\n",
    "le_ordered = LabelEncoder()\n",
    "le_ordered.fit(correct_order)\n",
    "\n",
    "# Map the predictions and true labels to the correct order\n",
    "y_valid_ordered = le_ordered.transform(le.inverse_transform(y_valid))\n",
    "y_pred_rf_ordered = le_ordered.transform(le.inverse_transform(y_pred_rf))\n",
    "\n",
    "# Evaluate the model\n",
    "print(\"Random Forest Performance:\")\n",
    "print(classification_report(y_valid_ordered, y_pred_rf_ordered, target_names=correct_order))\n",
    "\n",
    "# Plot confusion matrix\n",
    "cm = confusion_matrix(y_valid_ordered, y_pred_rf_ordered)\n",
    "plt.figure(figsize=(10, 8))\n",
    "sns.heatmap(cm, annot=True, fmt='d', cmap='Blues', xticklabels=correct_order, yticklabels=correct_order)\n",
    "plt.title('Confusion Matrix - Random Forest')\n",
    "plt.xlabel('Predicted')\n",
    "plt.ylabel('True')\n",
    "plt.tight_layout()\n",
    "plt.show()"
   ]
  },
  {
   "cell_type": "code",
   "execution_count": 17,
   "metadata": {},
   "outputs": [
    {
     "name": "stdout",
     "output_type": "stream",
     "text": [
      "Random Forest model saved to saved_model/random_forest_fake_news_classifier.joblib\n",
      "TF-IDF vectorizer saved to saved_model/tfidf_vectorizer.joblib\n",
      "LabelEncoder saved to saved_model/label_encoder.joblib\n",
      "Numeric features list saved to saved_model/numeric_features.joblib\n"
     ]
    }
   ],
   "source": [
    "#Saving the model and preprocessors\n",
    "import joblib\n",
    "import os\n",
    "\n",
    "# Create a directory to save the model if it doesn't exist\n",
    "os.makedirs('saved_model', exist_ok=True)\n",
    "\n",
    "# Save the Random Forest model\n",
    "rf_model_save_path = 'saved_model/random_forest_fake_news_classifier.joblib'\n",
    "joblib.dump(rf_model, rf_model_save_path)\n",
    "\n",
    "# Save the TF-IDF vectorizer\n",
    "tfidf_save_path = 'saved_model/tfidf_vectorizer.joblib'\n",
    "joblib.dump(tfidf, tfidf_save_path)\n",
    "\n",
    "# Save the LabelEncoder\n",
    "le_save_path = 'saved_model/label_encoder.joblib'\n",
    "joblib.dump(le, le_save_path)\n",
    "\n",
    "# Save the list of numeric features\n",
    "numeric_features_save_path = 'saved_model/numeric_features.joblib'\n",
    "joblib.dump(numeric_features, numeric_features_save_path)\n",
    "\n",
    "print(f\"Random Forest model saved to {rf_model_save_path}\")\n",
    "print(f\"TF-IDF vectorizer saved to {tfidf_save_path}\")\n",
    "print(f\"LabelEncoder saved to {le_save_path}\")\n",
    "print(f\"Numeric features list saved to {numeric_features_save_path}\")\n",
    "\n",
    "# To load the model and preprocessors later:\n",
    "# loaded_rf_model = joblib.load(rf_model_save_path)\n",
    "# loaded_tfidf = joblib.load(tfidf_save_path)\n",
    "# loaded_le = joblib.load(le_save_path)\n",
    "# loaded_numeric_features = joblib.load(numeric_features_save_path)"
   ]
  },
  {
   "cell_type": "markdown",
   "metadata": {},
   "source": [
    "### Deep Learning Model (BERT)\n",
    "\n",
    "[Scrivere qua]"
   ]
  },
  {
   "cell_type": "code",
   "execution_count": 13,
   "metadata": {},
   "outputs": [
    {
     "name": "stderr",
     "output_type": "stream",
     "text": [
      "c:\\Users\\alexc\\anaconda3\\envs\\TorchP11\\Lib\\site-packages\\transformers\\tokenization_utils_base.py:1601: FutureWarning: `clean_up_tokenization_spaces` was not set. It will be set to `True` by default. This behavior will be depracted in transformers v4.45, and will be then set to `False` by default. For more details check this issue: https://github.com/huggingface/transformers/issues/31884\n",
      "  warnings.warn(\n",
      "Truncation was not explicitly activated but `max_length` is provided a specific value, please use `truncation=True` to explicitly truncate examples to max length. Defaulting to 'longest_first' truncation strategy. If you encode pairs of sequences (GLUE-style) with the tokenizer you can select this strategy more precisely by providing a specific strategy to `truncation`.\n",
      "c:\\Users\\alexc\\anaconda3\\envs\\TorchP11\\Lib\\site-packages\\transformers\\tokenization_utils_base.py:2870: FutureWarning: The `pad_to_max_length` argument is deprecated and will be removed in a future version, use `padding=True` or `padding='longest'` to pad to the longest sequence in the batch, or use `padding='max_length'` to pad to a max length. In this case, you can give a specific length with `max_length` (e.g. `max_length=45`) or leave max_length to None to pad to the maximal input size of the model (e.g. 512 for Bert).\n",
      "  warnings.warn(\n",
      "A parameter name that contains `beta` will be renamed internally to `bias`. Please use a different name to suppress this warning.\n",
      "A parameter name that contains `gamma` will be renamed internally to `weight`. Please use a different name to suppress this warning.\n",
      "A parameter name that contains `beta` will be renamed internally to `bias`. Please use a different name to suppress this warning.\n",
      "A parameter name that contains `gamma` will be renamed internally to `weight`. Please use a different name to suppress this warning.\n",
      "A parameter name that contains `beta` will be renamed internally to `bias`. Please use a different name to suppress this warning.\n",
      "A parameter name that contains `gamma` will be renamed internally to `weight`. Please use a different name to suppress this warning.\n",
      "A parameter name that contains `beta` will be renamed internally to `bias`. Please use a different name to suppress this warning.\n",
      "A parameter name that contains `gamma` will be renamed internally to `weight`. Please use a different name to suppress this warning.\n",
      "A parameter name that contains `beta` will be renamed internally to `bias`. Please use a different name to suppress this warning.\n",
      "A parameter name that contains `gamma` will be renamed internally to `weight`. Please use a different name to suppress this warning.\n",
      "A parameter name that contains `beta` will be renamed internally to `bias`. Please use a different name to suppress this warning.\n",
      "A parameter name that contains `gamma` will be renamed internally to `weight`. Please use a different name to suppress this warning.\n",
      "A parameter name that contains `beta` will be renamed internally to `bias`. Please use a different name to suppress this warning.\n",
      "A parameter name that contains `gamma` will be renamed internally to `weight`. Please use a different name to suppress this warning.\n",
      "A parameter name that contains `beta` will be renamed internally to `bias`. Please use a different name to suppress this warning.\n",
      "A parameter name that contains `gamma` will be renamed internally to `weight`. Please use a different name to suppress this warning.\n",
      "A parameter name that contains `beta` will be renamed internally to `bias`. Please use a different name to suppress this warning.\n",
      "A parameter name that contains `gamma` will be renamed internally to `weight`. Please use a different name to suppress this warning.\n",
      "A parameter name that contains `beta` will be renamed internally to `bias`. Please use a different name to suppress this warning.\n",
      "A parameter name that contains `gamma` will be renamed internally to `weight`. Please use a different name to suppress this warning.\n",
      "A parameter name that contains `beta` will be renamed internally to `bias`. Please use a different name to suppress this warning.\n",
      "A parameter name that contains `gamma` will be renamed internally to `weight`. Please use a different name to suppress this warning.\n",
      "A parameter name that contains `beta` will be renamed internally to `bias`. Please use a different name to suppress this warning.\n",
      "A parameter name that contains `gamma` will be renamed internally to `weight`. Please use a different name to suppress this warning.\n",
      "A parameter name that contains `beta` will be renamed internally to `bias`. Please use a different name to suppress this warning.\n",
      "A parameter name that contains `gamma` will be renamed internally to `weight`. Please use a different name to suppress this warning.\n",
      "A parameter name that contains `beta` will be renamed internally to `bias`. Please use a different name to suppress this warning.\n",
      "A parameter name that contains `gamma` will be renamed internally to `weight`. Please use a different name to suppress this warning.\n",
      "A parameter name that contains `beta` will be renamed internally to `bias`. Please use a different name to suppress this warning.\n",
      "A parameter name that contains `gamma` will be renamed internally to `weight`. Please use a different name to suppress this warning.\n",
      "A parameter name that contains `beta` will be renamed internally to `bias`. Please use a different name to suppress this warning.\n",
      "A parameter name that contains `gamma` will be renamed internally to `weight`. Please use a different name to suppress this warning.\n",
      "A parameter name that contains `beta` will be renamed internally to `bias`. Please use a different name to suppress this warning.\n",
      "A parameter name that contains `gamma` will be renamed internally to `weight`. Please use a different name to suppress this warning.\n",
      "A parameter name that contains `beta` will be renamed internally to `bias`. Please use a different name to suppress this warning.\n",
      "A parameter name that contains `gamma` will be renamed internally to `weight`. Please use a different name to suppress this warning.\n",
      "A parameter name that contains `beta` will be renamed internally to `bias`. Please use a different name to suppress this warning.\n",
      "A parameter name that contains `gamma` will be renamed internally to `weight`. Please use a different name to suppress this warning.\n",
      "A parameter name that contains `beta` will be renamed internally to `bias`. Please use a different name to suppress this warning.\n",
      "A parameter name that contains `gamma` will be renamed internally to `weight`. Please use a different name to suppress this warning.\n",
      "A parameter name that contains `beta` will be renamed internally to `bias`. Please use a different name to suppress this warning.\n",
      "A parameter name that contains `gamma` will be renamed internally to `weight`. Please use a different name to suppress this warning.\n",
      "A parameter name that contains `beta` will be renamed internally to `bias`. Please use a different name to suppress this warning.\n",
      "A parameter name that contains `gamma` will be renamed internally to `weight`. Please use a different name to suppress this warning.\n",
      "A parameter name that contains `beta` will be renamed internally to `bias`. Please use a different name to suppress this warning.\n",
      "A parameter name that contains `gamma` will be renamed internally to `weight`. Please use a different name to suppress this warning.\n",
      "A parameter name that contains `beta` will be renamed internally to `bias`. Please use a different name to suppress this warning.\n",
      "A parameter name that contains `gamma` will be renamed internally to `weight`. Please use a different name to suppress this warning.\n",
      "A parameter name that contains `beta` will be renamed internally to `bias`. Please use a different name to suppress this warning.\n",
      "A parameter name that contains `gamma` will be renamed internally to `weight`. Please use a different name to suppress this warning.\n",
      "A parameter name that contains `beta` will be renamed internally to `bias`. Please use a different name to suppress this warning.\n",
      "A parameter name that contains `gamma` will be renamed internally to `weight`. Please use a different name to suppress this warning.\n",
      "Some weights of BertForSequenceClassification were not initialized from the model checkpoint at bert-base-uncased and are newly initialized: ['classifier.bias', 'classifier.weight']\n",
      "You should probably TRAIN this model on a down-stream task to be able to use it for predictions and inference.\n",
      "c:\\Users\\alexc\\anaconda3\\envs\\TorchP11\\Lib\\site-packages\\transformers\\optimization.py:591: FutureWarning: This implementation of AdamW is deprecated and will be removed in a future version. Use the PyTorch implementation torch.optim.AdamW instead, or set `no_deprecation_warning=True` to disable this warning\n",
      "  warnings.warn(\n",
      "c:\\Users\\alexc\\anaconda3\\envs\\TorchP11\\Lib\\site-packages\\transformers\\models\\bert\\modeling_bert.py:439: UserWarning: 1Torch was not compiled with flash attention. (Triggered internally at C:\\actions-runner\\_work\\pytorch\\pytorch\\builder\\windows\\pytorch\\aten\\src\\ATen\\native\\transformers\\cuda\\sdp_utils.cpp:555.)\n",
      "  attn_output = torch.nn.functional.scaled_dot_product_attention(\n"
     ]
    },
    {
     "name": "stdout",
     "output_type": "stream",
     "text": [
      "Epoch 1 - Validation Accuracy: 0.2584\n",
      "Epoch 2 - Validation Accuracy: 0.2622\n",
      "Epoch 3 - Validation Accuracy: 0.2492\n",
      "Epoch 4 - Validation Accuracy: 0.2622\n"
     ]
    },
    {
     "ename": "NameError",
     "evalue": "name 'b_' is not defined",
     "output_type": "error",
     "traceback": [
      "\u001b[1;31m---------------------------------------------------------------------------\u001b[0m",
      "\u001b[1;31mNameError\u001b[0m                                 Traceback (most recent call last)",
      "Cell \u001b[1;32mIn[13], line 76\u001b[0m\n\u001b[0;32m     74\u001b[0m \u001b[38;5;28;01mfor\u001b[39;00m batch \u001b[38;5;129;01min\u001b[39;00m valid_dataloader:\n\u001b[0;32m     75\u001b[0m     batch \u001b[38;5;241m=\u001b[39m \u001b[38;5;28mtuple\u001b[39m(t\u001b[38;5;241m.\u001b[39mto(\u001b[38;5;124m'\u001b[39m\u001b[38;5;124mcuda\u001b[39m\u001b[38;5;124m'\u001b[39m) \u001b[38;5;28;01mfor\u001b[39;00m t \u001b[38;5;129;01min\u001b[39;00m batch)\n\u001b[1;32m---> 76\u001b[0m     b_input_ids, \u001b[43mb_\u001b[49m\n",
      "\u001b[1;31mNameError\u001b[0m: name 'b_' is not defined"
     ]
    }
   ],
   "source": [
    "# Prepare data for BERT\n",
    "tokenizer = BertTokenizer.from_pretrained('bert-base-uncased')\n",
    "\n",
    "def prepare_bert_input(df):\n",
    "    encoded_data = tokenizer.batch_encode_plus(\n",
    "        df['statement'].tolist(),\n",
    "        add_special_tokens=True,\n",
    "        return_attention_mask=True,\n",
    "        pad_to_max_length=True,\n",
    "        max_length=128,\n",
    "        return_tensors='pt'\n",
    "    )\n",
    "    input_ids = encoded_data['input_ids']\n",
    "    attention_masks = encoded_data['attention_mask']\n",
    "    labels = torch.tensor(df['label_encoded'].tolist())\n",
    "    return input_ids, attention_masks, labels\n",
    "\n",
    "train_inputs, train_masks, train_labels = prepare_bert_input(train_df)\n",
    "valid_inputs, valid_masks, valid_labels = prepare_bert_input(valid_df)\n",
    "\n",
    "# Create DataLoaders\n",
    "train_data = TensorDataset(train_inputs, train_masks, train_labels)\n",
    "train_sampler = torch.utils.data.RandomSampler(train_data)\n",
    "train_dataloader = DataLoader(train_data, sampler=train_sampler, batch_size=32)\n",
    "\n",
    "valid_data = TensorDataset(valid_inputs, valid_masks, valid_labels)\n",
    "valid_sampler = torch.utils.data.SequentialSampler(valid_data)\n",
    "valid_dataloader = DataLoader(valid_data, sampler=valid_sampler, batch_size=32)\n",
    "\n",
    "# Initialize BERT model\n",
    "model = BertForSequenceClassification.from_pretrained('bert-base-uncased', num_labels=len(le.classes_))\n",
    "model.cuda()  # Move model to GPU\n",
    "\n",
    "# Set up optimizer\n",
    "optimizer = AdamW(model.parameters(), lr=2e-5, eps=1e-8)\n",
    "\n",
    "# Training loop\n",
    "epochs = 4\n",
    "\n",
    "for epoch in range(epochs):\n",
    "    model.train()\n",
    "    for batch in train_dataloader:\n",
    "        batch = tuple(t.to('cuda') for t in batch)\n",
    "        b_input_ids, b_input_mask, b_labels = batch\n",
    "        \n",
    "        optimizer.zero_grad()\n",
    "        outputs = model(b_input_ids, token_type_ids=None, attention_mask=b_input_mask, labels=b_labels)\n",
    "        loss = outputs.loss\n",
    "        loss.backward()\n",
    "        optimizer.step()\n",
    "    \n",
    "    # Validation\n",
    "    model.eval()\n",
    "    val_accuracy = []\n",
    "    for batch in valid_dataloader:\n",
    "        batch = tuple(t.to('cuda') for t in batch)\n",
    "        b_input_ids, b_input_mask, b_labels = batch\n",
    "        \n",
    "        with torch.no_grad():\n",
    "            outputs = model(b_input_ids, token_type_ids=None, attention_mask=b_input_mask)\n",
    "        \n",
    "        logits = outputs.logits\n",
    "        predictions = torch.argmax(logits, dim=1)\n",
    "        accuracy = (predictions == b_labels).float().mean()\n",
    "        val_accuracy.append(accuracy.item())\n",
    "    \n",
    "    print(f\"Epoch {epoch+1} - Validation Accuracy: {np.mean(val_accuracy):.4f}\")"
   ]
  },
  {
   "cell_type": "markdown",
   "metadata": {},
   "source": [
    "### Model BERT evaluation"
   ]
  },
  {
   "cell_type": "code",
   "execution_count": 15,
   "metadata": {},
   "outputs": [
    {
     "name": "stdout",
     "output_type": "stream",
     "text": [
      "BERT Model Performance:\n",
      "              precision    recall  f1-score   support\n",
      "\n",
      "        true       0.24      0.26      0.25       237\n",
      " mostly-true       0.27      0.32      0.30       263\n",
      "   half-true       0.24      0.33      0.28       248\n",
      " barely-true       0.28      0.21      0.24       251\n",
      "       false       0.44      0.23      0.30       116\n",
      "  pants-fire       0.29      0.21      0.25       169\n",
      "\n",
      "    accuracy                           0.27      1284\n",
      "   macro avg       0.29      0.26      0.27      1284\n",
      "weighted avg       0.28      0.27      0.27      1284\n",
      "\n"
     ]
    },
    {
     "data": {
      "image/png": "[encoded data removed]",
      "text/plain": [
       "<Figure size 1000x800 with 2 Axes>"
      ]
     },
     "metadata": {},
     "output_type": "display_data"
    }
   ],
   "source": [
    "# Evaluate BERT model\n",
    "model.eval()\n",
    "bert_predictions = []\n",
    "true_labels = []\n",
    "\n",
    "with torch.no_grad():\n",
    "    for batch in valid_dataloader:\n",
    "        batch = tuple(t.to('cuda') for t in batch)\n",
    "        b_input_ids, b_input_mask, b_labels = batch\n",
    "\n",
    "        outputs = model(b_input_ids, token_type_ids=None, attention_mask=b_input_mask)\n",
    "        logits = outputs.logits\n",
    "\n",
    "        predictions = torch.argmax(logits, dim=1)\n",
    "        \n",
    "        bert_predictions.extend(predictions.cpu().numpy())\n",
    "        true_labels.extend(b_labels.cpu().numpy())\n",
    "\n",
    "# Convert predictions and true labels back to original label names\n",
    "bert_predictions = le.inverse_transform(bert_predictions)\n",
    "true_labels = le.inverse_transform(true_labels)\n",
    "\n",
    "# Ensure the correct order of labels\n",
    "correct_order = ['true', 'mostly-true', 'half-true', 'barely-true', 'false', 'pants-fire']\n",
    "le_ordered = LabelEncoder()\n",
    "le_ordered.fit(correct_order)\n",
    "\n",
    "bert_predictions_ordered = le_ordered.transform(bert_predictions)\n",
    "true_labels_ordered = le_ordered.transform(true_labels)\n",
    "\n",
    "# Print classification report\n",
    "print(\"BERT Model Performance:\")\n",
    "print(classification_report(true_labels_ordered, bert_predictions_ordered, target_names=correct_order))\n",
    "\n",
    "# Plot confusion matrix\n",
    "cm = confusion_matrix(true_labels_ordered, bert_predictions_ordered)\n",
    "plt.figure(figsize=(10, 8))\n",
    "sns.heatmap(cm, annot=True, fmt='d', cmap='Blues', xticklabels=correct_order, yticklabels=correct_order)\n",
    "plt.title('Confusion Matrix - BERT Model')\n",
    "plt.xlabel('Predicted')\n",
    "plt.ylabel('True')\n",
    "plt.tight_layout()\n",
    "plt.show()"
   ]
  },
  {
   "cell_type": "code",
   "execution_count": 14,
   "metadata": {},
   "outputs": [
    {
     "name": "stdout",
     "output_type": "stream",
     "text": [
      "Model saved to saved_model/bert_fake_news_classifier.pt\n"
     ]
    }
   ],
   "source": [
    "import os\n",
    "import torch\n",
    "from transformers import BertForSequenceClassification\n",
    "\n",
    "# Assuming your model is called 'model' and is already trained\n",
    "\n",
    "# Create a directory to save the model\n",
    "os.makedirs('saved_model', exist_ok=True)\n",
    "\n",
    "# Save the model\n",
    "model_save_path = 'saved_model/bert_fake_news_classifier.pt'\n",
    "torch.save(model.state_dict(), model_save_path)\n",
    "\n",
    "# Save the configuration\n",
    "model.config.save_pretrained('saved_model')\n",
    "\n",
    "print(f\"Model saved to {model_save_path}\")\n"
   ]
  },
  {
   "cell_type": "markdown",
   "metadata": {},
   "source": [
    "### DL ROBERTA"
   ]
  },
  {
   "cell_type": "code",
   "execution_count": 20,
   "metadata": {},
   "outputs": [
    {
     "name": "stdout",
     "output_type": "stream",
     "text": [
      "Using device: cuda\n"
     ]
    }
   ],
   "source": [
    "import torch\n",
    "from torch.utils.data import DataLoader, TensorDataset\n",
    "from transformers import RobertaTokenizer, RobertaForSequenceClassification, AdamW, get_linear_schedule_with_warmup\n",
    "from sklearn.preprocessing import LabelEncoder\n",
    "from sklearn.metrics import classification_report, confusion_matrix\n",
    "import numpy as np\n",
    "import matplotlib.pyplot as plt\n",
    "import seaborn as sns\n",
    "from tqdm import tqdm\n",
    "import time\n",
    "import os\n",
    "\n",
    "# Set up GPU\n",
    "device = torch.device(\"cuda\" if torch.cuda.is_available() else \"cpu\")\n",
    "print(f\"Using device: {device}\")"
   ]
  },
  {
   "cell_type": "code",
   "execution_count": 21,
   "metadata": {},
   "outputs": [
    {
     "name": "stderr",
     "output_type": "stream",
     "text": [
      "c:\\Users\\alexc\\anaconda3\\envs\\TorchP11\\Lib\\site-packages\\transformers\\tokenization_utils_base.py:1601: FutureWarning: `clean_up_tokenization_spaces` was not set. It will be set to `True` by default. This behavior will be depracted in transformers v4.45, and will be then set to `False` by default. For more details check this issue: https://github.com/huggingface/transformers/issues/31884\n",
      "  warnings.warn(\n"
     ]
    }
   ],
   "source": [
    "# Load the RoBERTa tokenizer\n",
    "tokenizer = RobertaTokenizer.from_pretrained('roberta-base')\n",
    "\n",
    "def prepare_roberta_input(df, tokenizer, max_length=128):\n",
    "    encoded_data = tokenizer.batch_encode_plus(\n",
    "        df['statement'].tolist(),\n",
    "        add_special_tokens=True,\n",
    "        return_attention_mask=True,\n",
    "        padding='max_length',\n",
    "        max_length=max_length,\n",
    "        truncation=True,\n",
    "        return_tensors='pt'\n",
    "    )\n",
    "    input_ids = encoded_data['input_ids']\n",
    "    attention_masks = encoded_data['attention_mask']\n",
    "    labels = torch.tensor(df['label_encoded'].tolist())\n",
    "    return input_ids, attention_masks, labels\n",
    "\n",
    "# Prepare data\n",
    "train_inputs, train_masks, train_labels = prepare_roberta_input(train_df, tokenizer)\n",
    "valid_inputs, valid_masks, valid_labels = prepare_roberta_input(valid_df, tokenizer)\n",
    "\n",
    "# Create DataLoaders\n",
    "batch_size = 32\n",
    "train_data = TensorDataset(train_inputs, train_masks, train_labels)\n",
    "train_dataloader = DataLoader(train_data, batch_size=batch_size, shuffle=True)\n",
    "\n",
    "valid_data = TensorDataset(valid_inputs, valid_masks, valid_labels)\n",
    "valid_dataloader = DataLoader(valid_data, batch_size=batch_size, shuffle=False)\n"
   ]
  },
  {
   "cell_type": "code",
   "execution_count": null,
   "metadata": {},
   "outputs": [],
   "source": []
  }
 ],
 "metadata": {
  "kernelspec": {
   "display_name": ".venv",
   "language": "python",
   "name": "python3"
  },
  "language_info": {
   "codemirror_mode": {
    "name": "ipython",
    "version": 3
   },
   "file_extension": ".py",
   "mimetype": "text/x-python",
   "name": "python",
   "nbconvert_exporter": "python",
   "pygments_lexer": "ipython3",
   "version": "3.11.9"
  }
 },
 "nbformat": 4,
 "nbformat_minor": 2
}
