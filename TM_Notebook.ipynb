{
 "cells": [
  {
   "cell_type": "code",
   "execution_count": 2,
   "metadata": {},
   "outputs": [],
   "source": [
    "import pandas as pd\n",
    "\n",
    "# Define the column names\n",
    "columns = ['id', 'label', 'statement', 'subject', 'speaker', 'job_title', 'state_info', \n",
    "           'party_affiliation', 'barely_true_counts', 'false_counts', 'half_true_counts', \n",
    "           'mostly_true_counts', 'pants_on_fire_counts', 'context']\n",
    "\n",
    "# Read the TSV files\n",
    "train_df = pd.read_csv('train.tsv', sep='\\t', names=columns)\n",
    "valid_df = pd.read_csv('valid.tsv', sep='\\t', names=columns)\n",
    "test_df = pd.read_csv('test.tsv', sep='\\t', names=columns)"
   ]
  },
  {
   "cell_type": "code",
   "execution_count": 5,
   "metadata": {},
   "outputs": [
    {
     "data": {
      "text/plain": [
       "label\n",
       "half-true      2114\n",
       "false          1995\n",
       "mostly-true    1962\n",
       "true           1676\n",
       "barely-true    1654\n",
       "pants-fire      839\n",
       "Name: count, dtype: int64"
      ]
     },
     "execution_count": 5,
     "metadata": {},
     "output_type": "execute_result"
    }
   ],
   "source": [
    "train_df.label.value_counts()"
   ]
  }
 ],
 "metadata": {
  "kernelspec": {
   "display_name": ".venv",
   "language": "python",
   "name": "python3"
  },
  "language_info": {
   "codemirror_mode": {
    "name": "ipython",
    "version": 3
   },
   "file_extension": ".py",
   "mimetype": "text/x-python",
   "name": "python",
   "nbconvert_exporter": "python",
   "pygments_lexer": "ipython3",
   "version": "3.12.1"
  }
 },
 "nbformat": 4,
 "nbformat_minor": 2
}
