{
 "cells": [
  {
   "cell_type": "markdown",
   "metadata": {},
   "source": [
    "# Text Mining & Search\n",
    "Authors\n",
    "- Alexandre Crivellari\n",
    "- Andrea Muscio\n",
    "\n",
    "# Introduction\n",
    "\n",
    "[TO DO]"
   ]
  },
  {
   "cell_type": "markdown",
   "metadata": {},
   "source": [
    "# Workspace setting"
   ]
  },
  {
   "cell_type": "markdown",
   "metadata": {},
   "source": [
    "## Dependencies"
   ]
  },
  {
   "cell_type": "code",
   "execution_count": 2,
   "metadata": {},
   "outputs": [],
   "source": [
    "# Uncomment if needed to install the required packages\n",
    "\n",
    "#%pip install pandas numpy matplotlib seaborn scikit-learn\n",
    "#%pip install torch torchvision torchaudio --index-url https://download.pytorch.org/whl/cu121\n",
    "#%pip install captum"
   ]
  },
  {
   "cell_type": "markdown",
   "metadata": {},
   "source": [
    "## Libraries"
   ]
  },
  {
   "cell_type": "code",
   "execution_count": 25,
   "metadata": {},
   "outputs": [
    {
     "data": {
      "text/plain": [
       "<torch._C.Generator at 0x1b8227cff70>"
      ]
     },
     "execution_count": 25,
     "metadata": {},
     "output_type": "execute_result"
    }
   ],
   "source": [
    "# Import necessary libraries\n",
    "import pandas as pd\n",
    "import numpy as np\n",
    "import matplotlib.pyplot as plt\n",
    "import seaborn as sns\n",
    "from sklearn.preprocessing import LabelEncoder\n",
    "from sklearn.feature_extraction.text import TfidfVectorizer\n",
    "from sklearn.model_selection import train_test_split, cross_val_score\n",
    "from sklearn.ensemble import RandomForestClassifier\n",
    "from sklearn.metrics import accuracy_score, classification_report, confusion_matrix, precision_score, recall_score, f1_score, roc_auc_score\n",
    "import torch\n",
    "from transformers import BertTokenizer, BertForSequenceClassification, AdamW\n",
    "from torch.utils.data import DataLoader, TensorDataset\n",
    "from sklearn.preprocessing import StandardScaler\n",
    "from imblearn.over_sampling import SMOTE\n",
    "from transformers import RobertaTokenizer\n",
    "from sklearn.utils.class_weight import compute_class_weight\n",
    "from tqdm import tqdm\n",
    "\n",
    "# Set random seed for reproducibility\n",
    "np.random.seed(42)\n",
    "torch.manual_seed(42)"
   ]
  },
  {
   "cell_type": "markdown",
   "metadata": {},
   "source": [
    "## Dataset upload and exploration"
   ]
  },
  {
   "cell_type": "code",
   "execution_count": 4,
   "metadata": {},
   "outputs": [
    {
     "data": {
      "text/html": [
       "<div>\n",
       "<style scoped>\n",
       "    .dataframe tbody tr th:only-of-type {\n",
       "        vertical-align: middle;\n",
       "    }\n",
       "\n",
       "    .dataframe tbody tr th {\n",
       "        vertical-align: top;\n",
       "    }\n",
       "\n",
       "    .dataframe thead th {\n",
       "        text-align: right;\n",
       "    }\n",
       "</style>\n",
       "<table border=\"1\" class=\"dataframe\">\n",
       "  <thead>\n",
       "    <tr style=\"text-align: right;\">\n",
       "      <th></th>\n",
       "      <th>id</th>\n",
       "      <th>label</th>\n",
       "      <th>statement</th>\n",
       "      <th>subject</th>\n",
       "      <th>speaker</th>\n",
       "      <th>job_title</th>\n",
       "      <th>state_info</th>\n",
       "      <th>party_affiliation</th>\n",
       "      <th>barely_true_counts</th>\n",
       "      <th>false_counts</th>\n",
       "      <th>half_true_counts</th>\n",
       "      <th>mostly_true_counts</th>\n",
       "      <th>pants_on_fire_counts</th>\n",
       "      <th>context</th>\n",
       "    </tr>\n",
       "  </thead>\n",
       "  <tbody>\n",
       "    <tr>\n",
       "      <th>0</th>\n",
       "      <td>2635.json</td>\n",
       "      <td>false</td>\n",
       "      <td>Says the Annies List political group supports ...</td>\n",
       "      <td>abortion</td>\n",
       "      <td>dwayne-bohac</td>\n",
       "      <td>State representative</td>\n",
       "      <td>Texas</td>\n",
       "      <td>republican</td>\n",
       "      <td>0.0</td>\n",
       "      <td>1.0</td>\n",
       "      <td>0.0</td>\n",
       "      <td>0.0</td>\n",
       "      <td>0.0</td>\n",
       "      <td>a mailer</td>\n",
       "    </tr>\n",
       "    <tr>\n",
       "      <th>1</th>\n",
       "      <td>10540.json</td>\n",
       "      <td>half-true</td>\n",
       "      <td>When did the decline of coal start? It started...</td>\n",
       "      <td>energy,history,job-accomplishments</td>\n",
       "      <td>scott-surovell</td>\n",
       "      <td>State delegate</td>\n",
       "      <td>Virginia</td>\n",
       "      <td>democrat</td>\n",
       "      <td>0.0</td>\n",
       "      <td>0.0</td>\n",
       "      <td>1.0</td>\n",
       "      <td>1.0</td>\n",
       "      <td>0.0</td>\n",
       "      <td>a floor speech.</td>\n",
       "    </tr>\n",
       "    <tr>\n",
       "      <th>2</th>\n",
       "      <td>324.json</td>\n",
       "      <td>mostly-true</td>\n",
       "      <td>Hillary Clinton agrees with John McCain \"by vo...</td>\n",
       "      <td>foreign-policy</td>\n",
       "      <td>barack-obama</td>\n",
       "      <td>President</td>\n",
       "      <td>Illinois</td>\n",
       "      <td>democrat</td>\n",
       "      <td>70.0</td>\n",
       "      <td>71.0</td>\n",
       "      <td>160.0</td>\n",
       "      <td>163.0</td>\n",
       "      <td>9.0</td>\n",
       "      <td>Denver</td>\n",
       "    </tr>\n",
       "    <tr>\n",
       "      <th>3</th>\n",
       "      <td>1123.json</td>\n",
       "      <td>false</td>\n",
       "      <td>Health care reform legislation is likely to ma...</td>\n",
       "      <td>health-care</td>\n",
       "      <td>blog-posting</td>\n",
       "      <td>NaN</td>\n",
       "      <td>NaN</td>\n",
       "      <td>none</td>\n",
       "      <td>7.0</td>\n",
       "      <td>19.0</td>\n",
       "      <td>3.0</td>\n",
       "      <td>5.0</td>\n",
       "      <td>44.0</td>\n",
       "      <td>a news release</td>\n",
       "    </tr>\n",
       "    <tr>\n",
       "      <th>4</th>\n",
       "      <td>9028.json</td>\n",
       "      <td>half-true</td>\n",
       "      <td>The economic turnaround started at the end of ...</td>\n",
       "      <td>economy,jobs</td>\n",
       "      <td>charlie-crist</td>\n",
       "      <td>NaN</td>\n",
       "      <td>Florida</td>\n",
       "      <td>democrat</td>\n",
       "      <td>15.0</td>\n",
       "      <td>9.0</td>\n",
       "      <td>20.0</td>\n",
       "      <td>19.0</td>\n",
       "      <td>2.0</td>\n",
       "      <td>an interview on CNN</td>\n",
       "    </tr>\n",
       "  </tbody>\n",
       "</table>\n",
       "</div>"
      ],
      "text/plain": [
       "           id        label                                          statement  \\\n",
       "0   2635.json        false  Says the Annies List political group supports ...   \n",
       "1  10540.json    half-true  When did the decline of coal start? It started...   \n",
       "2    324.json  mostly-true  Hillary Clinton agrees with John McCain \"by vo...   \n",
       "3   1123.json        false  Health care reform legislation is likely to ma...   \n",
       "4   9028.json    half-true  The economic turnaround started at the end of ...   \n",
       "\n",
       "                              subject         speaker             job_title  \\\n",
       "0                            abortion    dwayne-bohac  State representative   \n",
       "1  energy,history,job-accomplishments  scott-surovell        State delegate   \n",
       "2                      foreign-policy    barack-obama             President   \n",
       "3                         health-care    blog-posting                   NaN   \n",
       "4                        economy,jobs   charlie-crist                   NaN   \n",
       "\n",
       "  state_info party_affiliation  barely_true_counts  false_counts  \\\n",
       "0      Texas        republican                 0.0           1.0   \n",
       "1   Virginia          democrat                 0.0           0.0   \n",
       "2   Illinois          democrat                70.0          71.0   \n",
       "3        NaN              none                 7.0          19.0   \n",
       "4    Florida          democrat                15.0           9.0   \n",
       "\n",
       "   half_true_counts  mostly_true_counts  pants_on_fire_counts  \\\n",
       "0               0.0                 0.0                   0.0   \n",
       "1               1.0                 1.0                   0.0   \n",
       "2             160.0               163.0                   9.0   \n",
       "3               3.0                 5.0                  44.0   \n",
       "4              20.0                19.0                   2.0   \n",
       "\n",
       "               context  \n",
       "0             a mailer  \n",
       "1      a floor speech.  \n",
       "2               Denver  \n",
       "3       a news release  \n",
       "4  an interview on CNN  "
      ]
     },
     "execution_count": 4,
     "metadata": {},
     "output_type": "execute_result"
    }
   ],
   "source": [
    "# Define the column names\n",
    "columns = ['id', 'label', 'statement', 'subject', 'speaker', 'job_title', 'state_info', \n",
    "           'party_affiliation', 'barely_true_counts', 'false_counts', 'half_true_counts', \n",
    "           'mostly_true_counts', 'pants_on_fire_counts', 'context']\n",
    "\n",
    "# Read the TSV files\n",
    "train_df = pd.read_csv('train.tsv', sep='\\t', names=columns)\n",
    "valid_df = pd.read_csv('valid.tsv', sep='\\t', names=columns)\n",
    "test_df = pd.read_csv('test.tsv', sep='\\t', names=columns)\n",
    "\n",
    "# Display the first few rows of the training data\n",
    "train_df.head()"
   ]
  },
  {
   "cell_type": "code",
   "execution_count": 5,
   "metadata": {},
   "outputs": [
    {
     "name": "stdout",
     "output_type": "stream",
     "text": [
      "Index(['id', 'label', 'statement', 'subject', 'speaker', 'job_title',\n",
      "       'state_info', 'party_affiliation', 'barely_true_counts', 'false_counts',\n",
      "       'half_true_counts', 'mostly_true_counts', 'pants_on_fire_counts',\n",
      "       'context'],\n",
      "      dtype='object')\n"
     ]
    }
   ],
   "source": [
    "print(train_df.columns)"
   ]
  },
  {
   "cell_type": "code",
   "execution_count": 6,
   "metadata": {},
   "outputs": [
    {
     "name": "stdout",
     "output_type": "stream",
     "text": [
      "id                         0\n",
      "label                      0\n",
      "statement                  0\n",
      "subject                    2\n",
      "speaker                    2\n",
      "job_title               2898\n",
      "state_info              2210\n",
      "party_affiliation          2\n",
      "barely_true_counts         2\n",
      "false_counts               2\n",
      "half_true_counts           2\n",
      "mostly_true_counts         2\n",
      "pants_on_fire_counts       2\n",
      "context                  102\n",
      "dtype: int64\n"
     ]
    }
   ],
   "source": [
    "# Check for missing values\n",
    "print(train_df.isnull().sum())"
   ]
  },
  {
   "cell_type": "code",
   "execution_count": 8,
   "metadata": {},
   "outputs": [
    {
     "name": "stdout",
     "output_type": "stream",
     "text": [
      "Index(['id', 'label', 'statement', 'subject', 'speaker', 'party_affiliation',\n",
      "       'barely_true_counts', 'false_counts', 'half_true_counts',\n",
      "       'mostly_true_counts', 'pants_on_fire_counts', 'context'],\n",
      "      dtype='object')\n"
     ]
    }
   ],
   "source": [
    "# TEST REMOVING COLUMNS\n",
    "# Remove 'job_title' and 'state_info' columns from all datasets\n",
    "columns_to_remove = ['job_title', 'state_info']\n",
    "\n",
    "train_df = train_df.drop(columns=columns_to_remove)\n",
    "valid_df = valid_df.drop(columns=columns_to_remove)\n",
    "test_df = test_df.drop(columns=columns_to_remove)\n",
    "\n",
    "# Verify the columns have been removed\n",
    "print(train_df.columns)"
   ]
  },
  {
   "cell_type": "code",
   "execution_count": 10,
   "metadata": {},
   "outputs": [
    {
     "name": "stdout",
     "output_type": "stream",
     "text": [
      "id                      0\n",
      "label                   0\n",
      "statement               0\n",
      "subject                 0\n",
      "speaker                 0\n",
      "party_affiliation       0\n",
      "barely_true_counts      0\n",
      "false_counts            0\n",
      "half_true_counts        0\n",
      "mostly_true_counts      0\n",
      "pants_on_fire_counts    0\n",
      "context                 0\n",
      "dtype: int64\n",
      "label\n",
      "half-true      0.206445\n",
      "false          0.194824\n",
      "mostly-true    0.191602\n",
      "true           0.163672\n",
      "barely-true    0.161523\n",
      "pants-fire     0.081934\n",
      "Name: proportion, dtype: float64\n"
     ]
    },
    {
     "data": {
      "image/png": "[encoded data removed]",
      "text/plain": [
       "<Figure size 1000x600 with 1 Axes>"
      ]
     },
     "metadata": {},
     "output_type": "display_data"
    }
   ],
   "source": [
    "# Check for missing values\n",
    "print(train_df.isnull().sum())\n",
    "\n",
    "# Handle missing values (if any)\n",
    "train_df = train_df.fillna('unknown')\n",
    "valid_df = valid_df.fillna('unknown')\n",
    "test_df = test_df.fillna('unknown')\n",
    "\n",
    "# Handle missing values\n",
    "categorical_columns = ['subject', 'speaker', 'party_affiliation', 'context']\n",
    "numeric_columns = ['barely_true_counts', 'false_counts', 'half_true_counts', 'mostly_true_counts', 'pants_on_fire_counts']\n",
    "\n",
    "# For categorical columns, fill with 'Unknown' instead of 'unknown'\n",
    "for col in categorical_columns:\n",
    "    train_df[col] = train_df[col].fillna('Unknown')\n",
    "    valid_df[col] = valid_df[col].fillna('Unknown')\n",
    "    test_df[col] = test_df[col].fillna('Unknown')\n",
    "\n",
    "# For numeric columns, ensure they are numeric and fill with median\n",
    "for col in numeric_columns:\n",
    "    train_df[col] = pd.to_numeric(train_df[col], errors='coerce')\n",
    "    valid_df[col] = pd.to_numeric(valid_df[col], errors='coerce')\n",
    "    test_df[col] = pd.to_numeric(test_df[col], errors='coerce')\n",
    "    \n",
    "    median_value = train_df[col].median()\n",
    "    train_df[col] = train_df[col].fillna(median_value)\n",
    "    valid_df[col] = valid_df[col].fillna(median_value)\n",
    "    test_df[col] = test_df[col].fillna(median_value)\n",
    "\n",
    "# Encode labels\n",
    "le = LabelEncoder()\n",
    "train_df['label_encoded'] = le.fit_transform(train_df['label'])\n",
    "valid_df['label_encoded'] = le.transform(valid_df['label'])\n",
    "test_df['label_encoded'] = le.transform(test_df['label'])\n",
    "\n",
    "# Display class distribution\n",
    "print(train_df['label'].value_counts(normalize=True))\n",
    "\n",
    "# Visualize class distribution\n",
    "plt.figure(figsize=(10, 6))\n",
    "sns.countplot(x='label', data=train_df)\n",
    "plt.title('Class Distribution in Training Data')\n",
    "plt.xticks(rotation=45)\n",
    "plt.show()"
   ]
  },
  {
   "cell_type": "markdown",
   "metadata": {},
   "source": [
    "## Feature Engineering"
   ]
  },
  {
   "cell_type": "code",
   "execution_count": 11,
   "metadata": {},
   "outputs": [],
   "source": [
    "# Step 2: Feature Engineering (updated)\n",
    "\n",
    "# Create a feature for statement length\n",
    "train_df['statement_length'] = train_df['statement'].str.len()\n",
    "valid_df['statement_length'] = valid_df['statement'].str.len()\n",
    "test_df['statement_length'] = test_df['statement'].str.len()\n",
    "\n",
    "# Aggregate count features\n",
    "count_columns = ['barely_true_counts', 'false_counts', 'half_true_counts', \n",
    "                 'mostly_true_counts', 'pants_on_fire_counts']\n",
    "\n",
    "train_df['total_statements'] = train_df[count_columns].sum(axis=1)\n",
    "valid_df['total_statements'] = valid_df[count_columns].sum(axis=1)\n",
    "test_df['total_statements'] = test_df[count_columns].sum(axis=1)"
   ]
  },
  {
   "cell_type": "markdown",
   "metadata": {},
   "source": [
    "# Task 1 - Text Classification (Binary)"
   ]
  },
  {
   "cell_type": "markdown",
   "metadata": {},
   "source": [
    "Preprocessing"
   ]
  },
  {
   "cell_type": "code",
   "execution_count": 15,
   "metadata": {},
   "outputs": [
    {
     "name": "stdout",
     "output_type": "stream",
     "text": [
      "Class distribution in training set:\n",
      "binary_label\n",
      "False    0.644727\n",
      "True     0.355273\n",
      "Name: proportion, dtype: float64\n",
      "\n",
      "Class distribution in validation set:\n",
      "binary_label\n",
      "False    0.672897\n",
      "True     0.327103\n",
      "Name: proportion, dtype: float64\n",
      "\n",
      "Class distribution in test set:\n",
      "binary_label\n",
      "False    0.64562\n",
      "True     0.35438\n",
      "Name: proportion, dtype: float64\n"
     ]
    },
    {
     "data": {
      "image/png": "[encoded data removed]",
      "text/plain": [
       "<Figure size 1000x600 with 1 Axes>"
      ]
     },
     "metadata": {},
     "output_type": "display_data"
    }
   ],
   "source": [
    "import pandas as pd\n",
    "import numpy as np\n",
    "from sklearn.preprocessing import LabelEncoder\n",
    "from sklearn.model_selection import train_test_split\n",
    "\n",
    "# Assuming you have already loaded your datasets into train_df, valid_df, and test_df\n",
    "\n",
    "def binarize_labels(label):\n",
    "    if label in ['true', 'mostly-true']:\n",
    "        return 'True'\n",
    "    else:\n",
    "        return 'False'\n",
    "\n",
    "# Apply binary labeling to all datasets\n",
    "train_df['binary_label'] = train_df['label'].apply(binarize_labels)\n",
    "valid_df['binary_label'] = valid_df['label'].apply(binarize_labels)\n",
    "test_df['binary_label'] = test_df['label'].apply(binarize_labels)\n",
    "\n",
    "# Encode binary labels\n",
    "le = LabelEncoder()\n",
    "train_df['label_encoded'] = le.fit_transform(train_df['binary_label'])\n",
    "valid_df['label_encoded'] = le.transform(valid_df['binary_label'])\n",
    "test_df['label_encoded'] = le.transform(test_df['binary_label'])\n",
    "\n",
    "# Display class distribution\n",
    "print(\"Class distribution in training set:\")\n",
    "print(train_df['binary_label'].value_counts(normalize=True))\n",
    "\n",
    "print(\"\\nClass distribution in validation set:\")\n",
    "print(valid_df['binary_label'].value_counts(normalize=True))\n",
    "\n",
    "print(\"\\nClass distribution in test set:\")\n",
    "print(test_df['binary_label'].value_counts(normalize=True))\n",
    "\n",
    "# Visualize class distribution\n",
    "import matplotlib.pyplot as plt\n",
    "import seaborn as sns\n",
    "\n",
    "plt.figure(figsize=(10, 6))\n",
    "sns.countplot(x='binary_label', data=pd.concat([train_df, valid_df, test_df]))\n",
    "plt.title('Binary Class Distribution Across All Datasets')\n",
    "plt.show()"
   ]
  },
  {
   "cell_type": "code",
   "execution_count": 16,
   "metadata": {},
   "outputs": [
    {
     "name": "stdout",
     "output_type": "stream",
     "text": [
      "\n",
      "Sample rows from the training set:\n",
      "                                           statement        label  \\\n",
      "0  Says the Annies List political group supports ...        false   \n",
      "1  When did the decline of coal start? It started...    half-true   \n",
      "2  Hillary Clinton agrees with John McCain \"by vo...  mostly-true   \n",
      "3  Health care reform legislation is likely to ma...        false   \n",
      "4  The economic turnaround started at the end of ...    half-true   \n",
      "5  The Chicago Bears have had more starting quart...         true   \n",
      "6  Jim Dunnam has not lived in the district he re...  barely-true   \n",
      "7  I'm the only person on this stage who has work...    half-true   \n",
      "8  However, it took $19.5 million in Oregon Lotte...    half-true   \n",
      "9  Says GOP primary opponents Glenn Grothman and ...  mostly-true   \n",
      "\n",
      "  binary_label  label_encoded  \n",
      "0        False              0  \n",
      "1        False              0  \n",
      "2         True              1  \n",
      "3        False              0  \n",
      "4        False              0  \n",
      "5         True              1  \n",
      "6        False              0  \n",
      "7        False              0  \n",
      "8        False              0  \n",
      "9         True              1  \n"
     ]
    }
   ],
   "source": [
    "# Print some sample rows to verify the transformation\n",
    "print(\"\\nSample rows from the training set:\")\n",
    "print(train_df[['statement', 'label', 'binary_label', 'label_encoded']].head(10))"
   ]
  },
  {
   "cell_type": "code",
   "execution_count": 17,
   "metadata": {},
   "outputs": [
    {
     "name": "stdout",
     "output_type": "stream",
     "text": [
      "\n",
      "Label Encoder saved as 'binary_label_encoder.joblib'\n"
     ]
    }
   ],
   "source": [
    "# Save the label encoder\n",
    "import joblib\n",
    "joblib.dump(le, 'binary_label_encoder.joblib')\n",
    "print(\"\\nLabel Encoder saved as 'binary_label_encoder.joblib'\")"
   ]
  },
  {
   "cell_type": "markdown",
   "metadata": {},
   "source": []
  },
  {
   "cell_type": "code",
   "execution_count": 18,
   "metadata": {},
   "outputs": [
    {
     "name": "stderr",
     "output_type": "stream",
     "text": [
      "[nltk_data] Downloading package punkt to\n",
      "[nltk_data]     C:\\Users\\alexc\\AppData\\Roaming\\nltk_data...\n",
      "[nltk_data]   Unzipping tokenizers\\punkt.zip.\n",
      "[nltk_data] Downloading package stopwords to\n",
      "[nltk_data]     C:\\Users\\alexc\\AppData\\Roaming\\nltk_data...\n",
      "[nltk_data]   Package stopwords is already up-to-date!\n",
      "[nltk_data] Downloading package wordnet to\n",
      "[nltk_data]     C:\\Users\\alexc\\AppData\\Roaming\\nltk_data...\n"
     ]
    }
   ],
   "source": [
    "# Text preprocessing function\n",
    "import re\n",
    "import nltk\n",
    "from nltk.corpus import stopwords\n",
    "from nltk.stem import WordNetLemmatizer\n",
    "\n",
    "nltk.download('punkt')\n",
    "nltk.download('stopwords')\n",
    "nltk.download('wordnet')\n",
    "\n",
    "def preprocess_text(text):\n",
    "    # Convert to lowercase\n",
    "    text = text.lower()\n",
    "    # Remove special characters and digits\n",
    "    text = re.sub(r'[^a-zA-Z\\s]', '', text)\n",
    "    # Tokenize\n",
    "    tokens = nltk.word_tokenize(text)\n",
    "    # Remove stopwords and lemmatize\n",
    "    lemmatizer = WordNetLemmatizer()\n",
    "    stop_words = set(stopwords.words('english'))\n",
    "    cleaned_tokens = [lemmatizer.lemmatize(token) for token in tokens if token not in stop_words]\n",
    "    return ' '.join(cleaned_tokens)\n",
    "\n",
    "# Apply text preprocessing\n",
    "train_df['cleaned_statement'] = train_df['statement'].apply(preprocess_text)\n",
    "valid_df['cleaned_statement'] = valid_df['statement'].apply(preprocess_text)\n",
    "test_df['cleaned_statement'] = test_df['statement'].apply(preprocess_text)"
   ]
  },
  {
   "cell_type": "code",
   "execution_count": null,
   "metadata": {},
   "outputs": [],
   "source": []
  },
  {
   "cell_type": "code",
   "execution_count": null,
   "metadata": {},
   "outputs": [],
   "source": []
  },
  {
   "cell_type": "code",
   "execution_count": null,
   "metadata": {},
   "outputs": [],
   "source": []
  },
  {
   "cell_type": "markdown",
   "metadata": {},
   "source": [
    "### Traditional ML - Random Forest Classifier"
   ]
  },
  {
   "cell_type": "code",
   "execution_count": 32,
   "metadata": {},
   "outputs": [],
   "source": [
    "# Prepare data for Traditional ML (Random Forest)\n",
    "# TF-IDF Vectorization with a fixed number of features\n",
    "tfidf = TfidfVectorizer(max_features=5000)\n",
    "X_train_tfidf = tfidf.fit_transform(train_df['cleaned_statement'])\n",
    "X_valid_tfidf = tfidf.transform(valid_df['cleaned_statement'])\n",
    "X_test_tfidf = tfidf.transform(test_df['cleaned_statement'])\n",
    "\n",
    "# Prepare numerical features\n",
    "numerical_features = ['statement_length', 'total_statements', 'barely_true_counts', 'false_counts', 'half_true_counts', 'mostly_true_counts', 'pants_on_fire_counts']\n",
    "\n",
    "scaler = StandardScaler()\n",
    "X_train_num = scaler.fit_transform(train_df[numerical_features])\n",
    "X_valid_num = scaler.transform(valid_df[numerical_features])\n",
    "X_test_num = scaler.transform(test_df[numerical_features])\n",
    "\n",
    "# Combine TF-IDF and numerical features\n",
    "X_train = np.hstack((X_train_tfidf.toarray(), X_train_num))\n",
    "X_valid = np.hstack((X_valid_tfidf.toarray(), X_valid_num))\n",
    "X_test = np.hstack((X_test_tfidf.toarray(), X_test_num))\n",
    "\n",
    "y_train = train_df['label_encoded']\n",
    "y_valid = valid_df['label_encoded']\n",
    "y_test = test_df['label_encoded']\n",
    "\n",
    "# Handle class imbalance using SMOTE\n",
    "smote = SMOTE(random_state=42)\n",
    "X_train_resampled, y_train_resampled = smote.fit_resample(X_train, y_train)"
   ]
  },
  {
   "cell_type": "code",
   "execution_count": 37,
   "metadata": {},
   "outputs": [
    {
     "name": "stdout",
     "output_type": "stream",
     "text": [
      "Training Random Forest model...\n"
     ]
    }
   ],
   "source": [
    "# Train the model\n",
    "def train_with_progress(X, y, n_estimators=100):\n",
    "    rf_model = RandomForestClassifier(n_estimators=n_estimators, random_state=42)\n",
    "    rf_model.fit(X, y)\n",
    "    return rf_model\n",
    "\n",
    "print(\"Training Random Forest model...\")\n",
    "rf_model = train_with_progress(X_train_resampled, y_train_resampled)"
   ]
  },
  {
   "cell_type": "code",
   "execution_count": 38,
   "metadata": {},
   "outputs": [
    {
     "name": "stdout",
     "output_type": "stream",
     "text": [
      "Evaluating the model...\n",
      "      Metric     Score\n",
      "0   Accuracy  0.726914\n",
      "1  Precision  0.652819\n",
      "2     Recall  0.489978\n",
      "3   F1 Score  0.559796\n",
      "4    AUC-ROC  0.769109\n",
      "Number of features in training data: 5007\n",
      "Number of features in test data: 5007\n"
     ]
    }
   ],
   "source": [
    "# Evaluation function\n",
    "def evaluate_model(model, X_test, y_test):\n",
    "    y_pred = model.predict(X_test)\n",
    "    y_pred_proba = model.predict_proba(X_test)[:, 1]\n",
    "    \n",
    "    accuracy = accuracy_score(y_test, y_pred)\n",
    "    precision = precision_score(y_test, y_pred)\n",
    "    recall = recall_score(y_test, y_pred)\n",
    "    f1 = f1_score(y_test, y_pred)\n",
    "    auc_roc = roc_auc_score(y_test, y_pred_proba)\n",
    "    \n",
    "    results = pd.DataFrame({\n",
    "        'Metric': ['Accuracy', 'Precision', 'Recall', 'F1 Score', 'AUC-ROC'],\n",
    "        'Score': [accuracy, precision, recall, f1, auc_roc]\n",
    "    })\n",
    "    \n",
    "    return results, y_pred, y_pred_proba\n",
    "\n",
    "# Evaluate the model\n",
    "print(\"Evaluating the model...\")\n",
    "results, y_pred, y_test_pred = evaluate_model(rf_model, X_test, y_test)\n",
    "print(results)\n",
    "\n",
    "# Print feature counts for debugging\n",
    "print(f\"Number of features in training data: {X_train_resampled.shape[1]}\")\n",
    "print(f\"Number of features in test data: {X_test.shape[1]}\")"
   ]
  },
  {
   "cell_type": "code",
   "execution_count": 39,
   "metadata": {},
   "outputs": [
    {
     "name": "stdout",
     "output_type": "stream",
     "text": [
      "\n",
      "Generating performance visualizations...\n"
     ]
    },
    {
     "data": {
      "image/png": "[encoded data removed]",
      "text/plain": [
       "<Figure size 800x600 with 1 Axes>"
      ]
     },
     "metadata": {},
     "output_type": "display_data"
    },
    {
     "data": {
      "image/png": "[encoded data removed]",
      "text/plain": [
       "<Figure size 800x600 with 2 Axes>"
      ]
     },
     "metadata": {},
     "output_type": "display_data"
    },
    {
     "data": {
      "image/png": "[encoded data removed]",
      "text/plain": [
       "<Figure size 1200x800 with 1 Axes>"
      ]
     },
     "metadata": {},
     "output_type": "display_data"
    }
   ],
   "source": [
    "import matplotlib.pyplot as plt\n",
    "import seaborn as sns\n",
    "from sklearn.metrics import roc_curve, confusion_matrix\n",
    "\n",
    "# ROC Curve\n",
    "def plot_roc_curve(y_true, y_pred_proba):\n",
    "    fpr, tpr, _ = roc_curve(y_true, y_pred_proba)\n",
    "    plt.figure(figsize=(8, 6))\n",
    "    plt.plot(fpr, tpr, label=f'AUC-ROC: {roc_auc_score(y_true, y_pred_proba):.2f}')\n",
    "    plt.plot([0, 1], [0, 1], linestyle='--')\n",
    "    plt.xlabel('False Positive Rate')\n",
    "    plt.ylabel('True Positive Rate')\n",
    "    plt.title('Receiver Operating Characteristic (ROC) Curve')\n",
    "    plt.legend()\n",
    "    plt.show()\n",
    "\n",
    "# Confusion Matrix\n",
    "def plot_confusion_matrix(y_true, y_pred):\n",
    "    cm = confusion_matrix(y_true, y_pred)\n",
    "    plt.figure(figsize=(8, 6))\n",
    "    sns.heatmap(cm, annot=True, fmt='d', cmap='Blues')\n",
    "    plt.xlabel('Predicted')\n",
    "    plt.ylabel('True')\n",
    "    plt.title('Confusion Matrix')\n",
    "    plt.show()\n",
    "\n",
    "# Feature Importance\n",
    "def plot_feature_importance(model, feature_names, top_n=20):\n",
    "    importances = model.feature_importances_\n",
    "    indices = np.argsort(importances)[::-1][:top_n]\n",
    "    \n",
    "    plt.figure(figsize=(12, 8))\n",
    "    plt.title(f\"Top {top_n} Feature Importances\")\n",
    "    plt.bar(range(top_n), importances[indices])\n",
    "    plt.xticks(range(top_n), [feature_names[i] for i in indices], rotation=90)\n",
    "    plt.tight_layout()\n",
    "    plt.show()\n",
    "\n",
    "# After model evaluation, add these lines:\n",
    "print(\"\\nGenerating performance visualizations...\")\n",
    "\n",
    "# Plot ROC curve\n",
    "plot_roc_curve(y_test, y_test_pred)\n",
    "\n",
    "# Plot confusion matrix\n",
    "plot_confusion_matrix(y_test, y_pred)\n",
    "\n",
    "# Plot feature importance\n",
    "feature_names = tfidf.get_feature_names_out().tolist() + numerical_features\n",
    "plot_feature_importance(rf_model, feature_names)"
   ]
  },
  {
   "cell_type": "code",
   "execution_count": 40,
   "metadata": {},
   "outputs": [
    {
     "name": "stdout",
     "output_type": "stream",
     "text": [
      "Model saved as random_forest_model.joblib\n"
     ]
    }
   ],
   "source": [
    "import joblib\n",
    "\n",
    "def save_model(model, filename='random_forest_model.joblib'):\n",
    "    joblib.dump(model, filename)\n",
    "    print(f\"Model saved as {filename}\")\n",
    "\n",
    "# Save the model\n",
    "save_model(rf_model)"
   ]
  },
  {
   "cell_type": "markdown",
   "metadata": {},
   "source": [
    "### Deep Learning Model: RoBERTa"
   ]
  },
  {
   "cell_type": "code",
   "execution_count": 26,
   "metadata": {},
   "outputs": [
    {
     "name": "stdout",
     "output_type": "stream",
     "text": [
      "Data preparation completed.\n",
      "Random Forest training data shape: (13204, 5007)\n",
      "RoBERTa training data size: 10240\n",
      "Class weights for RoBERTa: tensor([0.7755, 1.4074])\n"
     ]
    }
   ],
   "source": [
    "# Prepare data for RoBERTa\n",
    "tokenizer = RobertaTokenizer.from_pretrained('roberta-base')\n",
    "\n",
    "def encode_for_roberta(texts, max_length=128):\n",
    "    # Convert texts to a list if it's a pandas Series\n",
    "    if isinstance(texts, pd.Series):\n",
    "        texts = texts.tolist()\n",
    "    return tokenizer(texts, padding=True, truncation=True, max_length=max_length, return_tensors='pt')\n",
    "\n",
    "# Convert pandas Series to list before encoding\n",
    "train_encodings = encode_for_roberta(train_df['statement'].tolist())\n",
    "valid_encodings = encode_for_roberta(valid_df['statement'].tolist())\n",
    "test_encodings = encode_for_roberta(test_df['statement'].tolist())\n",
    "\n",
    "# Convert to PyTorch datasets\n",
    "class Dataset(torch.utils.data.Dataset):\n",
    "    def __init__(self, encodings, labels):\n",
    "        self.encodings = encodings\n",
    "        self.labels = labels\n",
    "\n",
    "    def __getitem__(self, idx):\n",
    "        item = {key: torch.tensor(val[idx]) for key, val in self.encodings.items()}\n",
    "        item['labels'] = torch.tensor(self.labels[idx])\n",
    "        return item\n",
    "\n",
    "    def __len__(self):\n",
    "        return len(self.labels)\n",
    "\n",
    "train_dataset = Dataset(train_encodings, train_df['label_encoded'].tolist())\n",
    "valid_dataset = Dataset(valid_encodings, valid_df['label_encoded'].tolist())\n",
    "test_dataset = Dataset(test_encodings, test_df['label_encoded'].tolist())\n",
    "\n",
    "# Calculate class weights for RoBERTa\n",
    "class_weights = compute_class_weight('balanced', classes=np.unique(train_df['label_encoded']), y=train_df['label_encoded'])\n",
    "class_weights = torch.tensor(class_weights, dtype=torch.float)\n"
   ]
  },
  {
   "cell_type": "code",
   "execution_count": null,
   "metadata": {},
   "outputs": [],
   "source": []
  },
  {
   "cell_type": "code",
   "execution_count": null,
   "metadata": {},
   "outputs": [],
   "source": []
  },
  {
   "cell_type": "code",
   "execution_count": null,
   "metadata": {},
   "outputs": [],
   "source": []
  },
  {
   "cell_type": "code",
   "execution_count": null,
   "metadata": {},
   "outputs": [],
   "source": []
  },
  {
   "cell_type": "code",
   "execution_count": null,
   "metadata": {},
   "outputs": [],
   "source": []
  },
  {
   "cell_type": "code",
   "execution_count": null,
   "metadata": {},
   "outputs": [],
   "source": [
    "from sklearn.utils.class_weight import compute_class_weight\n",
    "import numpy as np\n",
    "\n",
    "# Assuming train_df is your training DataFrame and 'label_encoded' is the column with encoded labels\n",
    "class_weights = compute_class_weight(class_weight='balanced', classes=np.unique(train_df['label_encoded']), y=train_df['label_encoded'])\n",
    "class_weights = torch.tensor(class_weights, dtype=torch.float).to(device)\n",
    "\n",
    "print(\"Class weights:\", class_weights)\n"
   ]
  },
  {
   "cell_type": "code",
   "execution_count": null,
   "metadata": {},
   "outputs": [],
   "source": [
    "import torch\n",
    "from torch.utils.data import DataLoader, TensorDataset\n",
    "from transformers import RobertaTokenizer, RobertaForSequenceClassification, AdamW, get_linear_schedule_with_warmup\n",
    "from sklearn.metrics import classification_report, confusion_matrix, roc_curve, auc\n",
    "import numpy as np\n",
    "import matplotlib.pyplot as plt\n",
    "import seaborn as sns\n",
    "from tqdm import tqdm\n",
    "import time\n",
    "import os\n",
    "from torch.nn import CrossEntropyLoss\n",
    "\n",
    "# Set up GPU\n",
    "device = torch.device(\"cuda\" if torch.cuda.is_available() else \"cpu\")\n",
    "print(f\"Using device: {device}\")\n",
    "\n",
    "def prepare_roberta_input(df, tokenizer, max_length=128):\n",
    "    encoded_data = tokenizer.batch_encode_plus(\n",
    "        df['statement'].tolist(),\n",
    "        add_special_tokens=True,\n",
    "        return_attention_mask=True,\n",
    "        padding='max_length',\n",
    "        max_length=max_length,\n",
    "        truncation=True,\n",
    "        return_tensors='pt'\n",
    "    )\n",
    "    input_ids = encoded_data['input_ids']\n",
    "    attention_masks = encoded_data['attention_mask']\n",
    "    labels = torch.tensor(df['label_encoded'].tolist())\n",
    "    return input_ids, attention_masks, labels\n",
    "\n",
    "# Prepare data\n",
    "train_inputs, train_masks, train_labels = prepare_roberta_input(train_df, tokenizer)\n",
    "valid_inputs, valid_masks, valid_labels = prepare_roberta_input(valid_df, tokenizer)\n",
    "test_inputs, test_masks, test_labels = prepare_roberta_input(test_df, tokenizer)\n",
    "\n",
    "# Create DataLoaders\n",
    "batch_size = 32\n",
    "train_data = TensorDataset(train_inputs, train_masks, train_labels)\n",
    "train_dataloader = DataLoader(train_data, batch_size=batch_size, shuffle=True)\n",
    "\n",
    "valid_data = TensorDataset(valid_inputs, valid_masks, valid_labels)\n",
    "valid_dataloader = DataLoader(valid_data, batch_size=batch_size, shuffle=False)\n",
    "\n",
    "test_data = TensorDataset(test_inputs, test_masks, test_labels)\n",
    "test_dataloader = DataLoader(test_data, batch_size=batch_size, shuffle=False)"
   ]
  },
  {
   "cell_type": "code",
   "execution_count": null,
   "metadata": {},
   "outputs": [],
   "source": [
    "# Set up RoBERTa model\n",
    "model = RobertaForSequenceClassification.from_pretrained('roberta-large', num_labels=2)\n",
    "model.to(device)\n",
    "\n",
    "# Set up optimizer and scheduler\n",
    "optimizer = AdamW(model.parameters(), lr=2e-5, eps=1e-8)\n",
    "epochs = 4\n",
    "total_steps = len(train_dataloader) * epochs\n",
    "scheduler = get_linear_schedule_with_warmup(optimizer, num_warmup_steps=0, num_training_steps=total_steps)"
   ]
  },
  {
   "cell_type": "code",
   "execution_count": null,
   "metadata": {},
   "outputs": [],
   "source": [
    "gradient_accumulation_steps = 4  # Adjust based on your memory constraints"
   ]
  },
  {
   "cell_type": "code",
   "execution_count": null,
   "metadata": {},
   "outputs": [],
   "source": [
    "num_train_steps = len(train_dataloader) * epochs\n",
    "num_warmup_steps = num_train_steps // 10  # 10% of total steps for warmup\n",
    "\n",
    "optimizer = AdamW(model.parameters(), lr=2e-5, eps=1e-8)\n",
    "scheduler = get_linear_schedule_with_warmup(optimizer, \n",
    "                                            num_warmup_steps=num_warmup_steps, \n",
    "                                            num_training_steps=num_train_steps)"
   ]
  },
  {
   "cell_type": "code",
   "execution_count": null,
   "metadata": {},
   "outputs": [],
   "source": [
    "scaler = torch.cuda.amp.GradScaler()"
   ]
  },
  {
   "cell_type": "code",
   "execution_count": null,
   "metadata": {},
   "outputs": [],
   "source": [
    "# Improvement: Implement early stopping\n",
    "early_stopping_patience = 3\n",
    "best_val_loss = float('inf')\n",
    "no_improvement_count = 0\n",
    "\n",
    "# Training loop\n",
    "for epoch in range(epochs):\n",
    "    print(f'\\n======== Epoch {epoch+1} / {epochs} ========')\n",
    "    print('Training...')\n",
    "    \n",
    "    model.train()\n",
    "    total_loss = 0\n",
    "\n",
    "    for step, batch in enumerate(tqdm(train_dataloader, desc=\"Training\", unit=\"batch\")):\n",
    "        b_input_ids, b_input_mask, b_labels = tuple(t.to(device) for t in batch)\n",
    "        \n",
    "        # Use mixed precision training\n",
    "        with torch.cuda.amp.autocast():\n",
    "            outputs = model(b_input_ids, attention_mask=b_input_mask)\n",
    "            logits = outputs.logits\n",
    "            loss = loss_fn(logits, b_labels)\n",
    "        \n",
    "        # Normalize loss for gradient accumulation\n",
    "        loss = loss / gradient_accumulation_steps\n",
    "        \n",
    "        # Backward pass with scaled gradients\n",
    "        scaler.scale(loss).backward()\n",
    "        \n",
    "        if (step + 1) % gradient_accumulation_steps == 0:\n",
    "            # Unscale gradients and clip them\n",
    "            scaler.unscale_(optimizer)\n",
    "            torch.nn.utils.clip_grad_norm_(model.parameters(), 1.0)\n",
    "            \n",
    "            # Optimizer step with scaled gradients\n",
    "            scaler.step(optimizer)\n",
    "            scaler.update()\n",
    "            \n",
    "            scheduler.step()\n",
    "            optimizer.zero_grad()\n",
    "        \n",
    "        total_loss += loss.item() * gradient_accumulation_steps\n",
    "        \n",
    "    avg_train_loss = total_loss / len(train_dataloader)\n",
    "    print(f\"Average training loss: {avg_train_loss:.4f}\")\n",
    "    \n",
    "    # Validation\n",
    "    model.eval()\n",
    "    val_accuracy = []\n",
    "    val_loss = []\n",
    "    \n",
    "    for batch in tqdm(valid_dataloader, desc=\"Validation\", unit=\"batch\"):\n",
    "        b_input_ids, b_input_mask, b_labels = tuple(t.to(device) for t in batch)\n",
    "        with torch.no_grad():\n",
    "            outputs = model(b_input_ids, attention_mask=b_input_mask)\n",
    "            logits = outputs.logits\n",
    "            loss = loss_fn(logits, b_labels)\n",
    "            val_loss.append(loss.item())\n",
    "        \n",
    "        predictions = torch.argmax(logits, dim=1)\n",
    "        accuracy = (predictions == b_labels).float().mean()\n",
    "        val_accuracy.append(accuracy.item())\n",
    "    \n",
    "    avg_val_loss = np.mean(val_loss)\n",
    "    print(f\"Validation Accuracy: {np.mean(val_accuracy):.4f}\")\n",
    "    print(f\"Validation Loss: {avg_val_loss:.4f}\")\n",
    "    \n",
    "    # Early stopping check\n",
    "    if avg_val_loss < best_val_loss:\n",
    "        best_val_loss = avg_val_loss\n",
    "        no_improvement_count = 0\n",
    "        # Save the best model\n",
    "        torch.save(model.state_dict(), 'best_roberta_model.pt')\n",
    "    else:\n",
    "        no_improvement_count += 1\n",
    "    \n",
    "    if no_improvement_count >= early_stopping_patience:\n",
    "        print(\"Early stopping triggered\")\n",
    "        break\n",
    "\n",
    "model.load_state_dict(torch.load('best_roberta_model.pt'))"
   ]
  },
  {
   "cell_type": "code",
   "execution_count": null,
   "metadata": {},
   "outputs": [],
   "source": [
    "# Improvement 6: Error analysis\n",
    "def analyze_errors(model, dataloader, tokenizer):\n",
    "    model.eval()\n",
    "    errors = []\n",
    "    with torch.no_grad():\n",
    "        for batch in tqdm(dataloader, desc=\"Error Analysis\", unit=\"batch\"):\n",
    "            b_input_ids, b_input_mask, b_labels = tuple(t.to(device) for t in batch)\n",
    "            outputs = model(b_input_ids, attention_mask=b_input_mask)\n",
    "            logits = outputs.logits\n",
    "            predictions = torch.argmax(logits, dim=1)\n",
    "            \n",
    "            for input_id, true_label, pred_label in zip(b_input_ids, b_labels, predictions):\n",
    "                if true_label != pred_label:\n",
    "                    text = tokenizer.decode(input_id, skip_special_tokens=True)\n",
    "                    errors.append((text, true_label.item(), pred_label.item()))\n",
    "    return errors\n",
    "\n",
    "error_cases = analyze_errors(model, test_dataloader, tokenizer)\n",
    "print(\"\\nSample Error Cases:\")\n",
    "for i, (text, true_label, pred_label) in enumerate(error_cases[:5]):\n",
    "    print(f\"Example {i+1}:\")\n",
    "    print(f\"Text: {text}\")\n",
    "    print(f\"True Label: {true_label}, Predicted Label: {pred_label}\\n\")"
   ]
  },
  {
   "cell_type": "code",
   "execution_count": null,
   "metadata": {},
   "outputs": [],
   "source": [
    "# Improvement 7: Confusion Matrix Analysis\n",
    "def plot_confusion_matrix(y_true, y_pred, classes):\n",
    "    cm = confusion_matrix(y_true, y_pred)\n",
    "    plt.figure(figsize=(10, 8))\n",
    "    sns.heatmap(cm, annot=True, fmt='d', cmap='Blues')\n",
    "    plt.title('Confusion Matrix - RoBERTa (Binary Classification)')\n",
    "    plt.xlabel('Predicted')\n",
    "    plt.ylabel('True')\n",
    "    plt.xticks(np.arange(len(classes)) + 0.5, classes)\n",
    "    plt.yticks(np.arange(len(classes)) + 0.5, classes)\n",
    "    plt.show()"
   ]
  },
  {
   "cell_type": "code",
   "execution_count": null,
   "metadata": {},
   "outputs": [],
   "source": [
    "plot_confusion_matrix(test_true_labels, test_predictions, ['False', 'True'])\n",
    "\n",
    "print(\"\\nModel training, evaluation, and analysis completed.\")"
   ]
  },
  {
   "cell_type": "code",
   "execution_count": null,
   "metadata": {},
   "outputs": [],
   "source": [
    "import torch\n",
    "from transformers import RobertaTokenizer\n",
    "from sklearn.metrics import classification_report, confusion_matrix, accuracy_score, precision_score, recall_score, f1_score\n",
    "import numpy as np\n",
    "import matplotlib.pyplot as plt\n",
    "import seaborn as sns\n",
    "import os\n",
    "\n",
    "# Assuming 'model' is your trained RoBERTa model and 'test_dataloader' is your DataLoader for the test set\n",
    "\n",
    "def evaluate_model(model, test_dataloader, device):\n",
    "    model.eval()\n",
    "    all_predictions = []\n",
    "    all_labels = []\n",
    "    \n",
    "    with torch.no_grad():\n",
    "        for batch in test_dataloader:\n",
    "            b_input_ids, b_input_mask, b_labels = tuple(t.to(device) for t in batch)\n",
    "            \n",
    "            outputs = model(b_input_ids, attention_mask=b_input_mask)\n",
    "            logits = outputs.logits\n",
    "            \n",
    "            predictions = torch.argmax(logits, dim=1)\n",
    "            \n",
    "            all_predictions.extend(predictions.cpu().numpy())\n",
    "            all_labels.extend(b_labels.cpu().numpy())\n",
    "    \n",
    "    return np.array(all_predictions), np.array(all_labels)\n",
    "\n",
    "# 1. Print the performance metrics of this model\n",
    "def print_performance_metrics(y_true, y_pred):\n",
    "    print(\"\\nModel Performance Metrics:\")\n",
    "    print(\"---------------------------\")\n",
    "    print(f\"Accuracy: {accuracy_score(y_true, y_pred):.4f}\")\n",
    "    print(f\"Precision: {precision_score(y_true, y_pred, average='weighted'):.4f}\")\n",
    "    print(f\"Recall: {recall_score(y_true, y_pred, average='weighted'):.4f}\")\n",
    "    print(f\"F1-score: {f1_score(y_true, y_pred, average='weighted'):.4f}\")\n",
    "    \n",
    "    print(\"\\nClassification Report:\")\n",
    "    print(classification_report(y_true, y_pred, target_names=['False', 'True']))\n",
    "    \n",
    "    # Confusion Matrix\n",
    "    cm = confusion_matrix(y_true, y_pred)\n",
    "    plt.figure(figsize=(10, 8))\n",
    "    sns.heatmap(cm, annot=True, fmt='d', cmap='Blues')\n",
    "    plt.title('Confusion Matrix - RoBERTa (Binary Classification)')\n",
    "    plt.xlabel('Predicted')\n",
    "    plt.ylabel('True')\n",
    "    plt.xticks([0.5, 1.5], ['False', 'True'])\n",
    "    plt.yticks([0.5, 1.5], ['False', 'True'])\n",
    "    plt.show()\n",
    "\n",
    "# Evaluate the model\n",
    "device = torch.device(\"cuda\" if torch.cuda.is_available() else \"cpu\")\n",
    "predictions, true_labels = evaluate_model(model, test_dataloader, device)\n",
    "\n",
    "# Print performance metrics\n",
    "print_performance_metrics(true_labels, predictions)"
   ]
  },
  {
   "cell_type": "code",
   "execution_count": null,
   "metadata": {},
   "outputs": [],
   "source": [
    "# 2. Save the model and tokenizer for later use\n",
    "def save_model_and_tokenizer(model, tokenizer, save_dir='saved_roberta_model'):\n",
    "    # Create directory if it doesn't exist\n",
    "    if not os.path.exists(save_dir):\n",
    "        os.makedirs(save_dir)\n",
    "    \n",
    "    # Save the model\n",
    "    model.save_pretrained(save_dir)\n",
    "    print(f\"Model saved to {save_dir}\")\n",
    "    \n",
    "    # Save the tokenizer\n",
    "    tokenizer.save_pretrained(save_dir)\n",
    "    print(f\"Tokenizer saved to {save_dir}\")\n",
    "\n",
    "# Assuming 'tokenizer' is your RobertaTokenizer instance\n",
    "save_model_and_tokenizer(model, tokenizer)\n",
    "\n",
    "print(\"\\nModel evaluation completed and model saved successfully.\")"
   ]
  },
  {
   "cell_type": "code",
   "execution_count": null,
   "metadata": {},
   "outputs": [],
   "source": []
  },
  {
   "cell_type": "code",
   "execution_count": null,
   "metadata": {},
   "outputs": [],
   "source": []
  },
  {
   "cell_type": "code",
   "execution_count": null,
   "metadata": {},
   "outputs": [],
   "source": []
  },
  {
   "cell_type": "code",
   "execution_count": null,
   "metadata": {},
   "outputs": [],
   "source": []
  },
  {
   "cell_type": "code",
   "execution_count": null,
   "metadata": {},
   "outputs": [],
   "source": [
    "# Evaluation on test set\n",
    "model.eval()\n",
    "test_predictions = []\n",
    "test_true_labels = []\n",
    "test_probabilities = []\n",
    "\n",
    "with torch.no_grad():\n",
    "    for batch in tqdm(test_dataloader, desc=\"Testing\", unit=\"batch\"):\n",
    "        b_input_ids, b_input_mask, b_labels = tuple(t.to(device) for t in batch)\n",
    "        outputs = model(b_input_ids, attention_mask=b_input_mask)\n",
    "        \n",
    "        logits = outputs.logits\n",
    "        probabilities = torch.softmax(logits, dim=1)\n",
    "        predictions = torch.argmax(logits, dim=1)\n",
    "        \n",
    "        test_predictions.extend(predictions.cpu().numpy())\n",
    "        test_true_labels.extend(b_labels.cpu().numpy())\n",
    "        test_probabilities.extend(probabilities[:, 1].cpu().numpy())  # Probability of the positive class\n",
    "\n",
    "# Convert to numpy arrays\n",
    "test_predictions = np.array(test_predictions)\n",
    "test_true_labels = np.array(test_true_labels)\n",
    "test_probabilities = np.array(test_probabilities)\n",
    "\n",
    "# Print classification report\n",
    "print(\"\\nRoBERTa Model Performance (Binary Classification):\")\n",
    "print(classification_report(test_true_labels, test_predictions, target_names=['False', 'True']))\n",
    "\n",
    "# Confusion Matrix\n",
    "cm = confusion_matrix(test_true_labels, test_predictions)\n",
    "plt.figure(figsize=(10, 8))\n",
    "sns.heatmap(cm, annot=True, fmt='d', cmap='Blues')\n",
    "plt.title('Confusion Matrix - RoBERTa (Binary Classification)')\n",
    "plt.xlabel('Predicted')\n",
    "plt.ylabel('True')\n",
    "plt.show()\n",
    "\n",
    "# ROC Curve\n",
    "fpr, tpr, _ = roc_curve(test_true_labels, test_probabilities)\n",
    "roc_auc = auc(fpr, tpr)\n",
    "\n",
    "plt.figure(figsize=(10, 8))\n",
    "plt.plot(fpr, tpr, color='darkorange', lw=2, label=f'ROC curve (AUC = {roc_auc:.2f})')\n",
    "plt.plot([0, 1], [0, 1], color='navy', lw=2, linestyle='--')\n",
    "plt.xlim([0.0, 1.0])\n",
    "plt.ylim([0.0, 1.05])\n",
    "plt.xlabel('False Positive Rate')\n",
    "plt.ylabel('True Positive Rate')\n",
    "plt.title('Receiver Operating Characteristic (ROC) Curve')\n",
    "plt.legend(loc=\"lower right\")\n",
    "plt.show()\n"
   ]
  },
  {
   "cell_type": "code",
   "execution_count": null,
   "metadata": {},
   "outputs": [],
   "source": [
    "# Save the model\n",
    "os.makedirs('saved_roberta_model_weighted', exist_ok=True)\n",
    "model_save_path = 'saved_roberta_model_weighted/roberta_binary_classifier.pt'\n",
    "torch.save(model.state_dict(), model_save_path)\n",
    "tokenizer.save_pretrained('saved_roberta_model_weighted')\n",
    "print(f\"\\nModel saved to {model_save_path}\")\n",
    "\n",
    "# Save the configuration\n",
    "model.config.save_pretrained('saved_roberta_model_weighted')\n",
    "print(\"Model configuration saved.\")"
   ]
  },
  {
   "cell_type": "code",
   "execution_count": null,
   "metadata": {},
   "outputs": [],
   "source": [
    "def get_important_words(model, tokenizer, input_ids, attention_mask, k=10):\n",
    "    model.eval()\n",
    "    with torch.no_grad():\n",
    "        outputs = model(input_ids.unsqueeze(0).to(device), \n",
    "                        attention_mask=attention_mask.unsqueeze(0).to(device),\n",
    "                        output_attentions=True)  # Add this parameter\n",
    "        \n",
    "        # The attentions are now available in outputs.attentions\n",
    "        attentions = outputs.attentions[-1].squeeze(0)  # Get the last layer's attention\n",
    "    \n",
    "    # Average attention across all heads\n",
    "    avg_attention = attentions.mean(dim=0)\n",
    "    \n",
    "    # Get the attention for the [CLS] token\n",
    "    cls_attention = avg_attention[0]\n",
    "    \n",
    "    # Get the top k words with highest attention\n",
    "    top_k_indices = torch.topk(cls_attention, k).indices.cpu().numpy()\n",
    "    \n",
    "    important_words = [tokenizer.decode([input_ids[i]]).strip() for i in top_k_indices]\n",
    "    return important_words\n",
    "\n",
    "# Now, let's use this function:\n",
    "sample_input = test_inputs[0]\n",
    "sample_mask = test_masks[0]\n",
    "important_words = get_important_words(model, tokenizer, sample_input, sample_mask)\n",
    "\n",
    "print(\"\\nMost important words for a sample input:\")\n",
    "print(\", \".join(important_words))\n",
    "\n",
    "# If you want to see the original input text:\n",
    "original_text = tokenizer.decode(sample_input, skip_special_tokens=True)\n",
    "print(f\"\\nOriginal text: {original_text}\")\n"
   ]
  },
  {
   "cell_type": "code",
   "execution_count": null,
   "metadata": {},
   "outputs": [],
   "source": [
    "# Get important words for a sample input\n",
    "sample_input = test_inputs[0]\n",
    "sample_mask = test_masks[0]\n",
    "important_words = get_important_words(model, tokenizer, sample_input, sample_mask)\n",
    "\n",
    "print(\"\\nMost important words for a sample input:\")\n",
    "print(\", \".join(important_words))"
   ]
  },
  {
   "cell_type": "code",
   "execution_count": null,
   "metadata": {},
   "outputs": [],
   "source": [
    "# Function to make prediction on new text\n",
    "def predict_statement(text, model, tokenizer):\n",
    "    # Tokenize the input text\n",
    "    inputs = tokenizer(text, return_tensors=\"pt\", truncation=True, padding=True, max_length=128)\n",
    "    input_ids = inputs[\"input_ids\"].to(device)\n",
    "    attention_mask = inputs[\"attention_mask\"].to(device)\n",
    "    \n",
    "    # Make prediction\n",
    "    model.eval()\n",
    "    with torch.no_grad():\n",
    "        outputs = model(input_ids, attention_mask=attention_mask)\n",
    "        logits = outputs.logits\n",
    "        probabilities = torch.softmax(logits, dim=1)\n",
    "        prediction = torch.argmax(probabilities, dim=1).item()\n",
    "    \n",
    "    # Get label and probability\n",
    "    label = \"True\" if prediction == 1 else \"False\"\n",
    "    probability = probabilities[0][prediction].item()\n",
    "    \n",
    "    return label, probability\n",
    "\n",
    "# Example usage of the prediction function\n",
    "sample_statement = \"The Earth is round.\"\n",
    "predicted_label, predicted_probability = predict_statement(sample_statement, model, tokenizer)\n",
    "print(f\"\\nSample statement: '{sample_statement}'\")\n",
    "print(f\"Predicted: {predicted_label} (Probability: {predicted_probability:.2f})\")\n",
    "\n",
    "print(\"\\nModel training, evaluation, and saving completed.\")"
   ]
  },
  {
   "cell_type": "code",
   "execution_count": null,
   "metadata": {},
   "outputs": [],
   "source": [
    "# Feature importance bar plot\n",
    "from captum.attr import IntegratedGradients\n",
    "import torch\n",
    "import matplotlib.pyplot as plt\n",
    "import seaborn as sns"
   ]
  },
  {
   "cell_type": "code",
   "execution_count": null,
   "metadata": {},
   "outputs": [],
   "source": [
    "def get_feature_importance(model, tokenizer, input_text, target=1):\n",
    "    model.eval()\n",
    "    input_ids = tokenizer.encode(input_text, return_tensors='pt').to(device)\n",
    "    input_embeddings = model.roberta.embeddings(input_ids)\n",
    "    \n",
    "    def forward_func(embeddings):\n",
    "        return model(inputs_embeds=embeddings).logits[:, target]\n",
    "    \n",
    "    ig = IntegratedGradients(forward_func)\n",
    "    attributions, delta = ig.attribute(input_embeddings, return_convergence_delta=True)\n",
    "    \n",
    "    attributions = attributions.sum(dim=2).squeeze(0)\n",
    "    attributions = attributions / torch.norm(attributions)\n",
    "    attributions = attributions.cpu().detach().numpy()\n",
    "    \n",
    "    tokens = tokenizer.convert_ids_to_tokens(input_ids[0])\n",
    "    \n",
    "    return list(zip(tokens, attributions))\n",
    "\n",
    "# Function to clean tokens\n",
    "def clean_token(token):\n",
    "    return token.replace('Ġ', '')\n",
    "\n",
    "# Get feature importance for a sample input\n",
    "sample_text = tokenizer.decode(test_inputs[0], skip_special_tokens=True)\n",
    "feature_importance = get_feature_importance(model, tokenizer, sample_text)\n",
    "\n",
    "# Sort by absolute importance and get top 20\n",
    "top_20 = sorted(feature_importance, key=lambda x: abs(x[1]), reverse=True)[:20]\n",
    "\n",
    "# Separate words and importance scores, cleaning the tokens\n",
    "words, scores = zip(*[(clean_token(word), score) for word, score in top_20])\n",
    "\n",
    "# Create the plot\n",
    "plt.figure(figsize=(12, 8))\n",
    "sns.barplot(x=list(scores), y=list(words), orient='h')\n",
    "plt.title('Top 20 Most Important Features - RoBERTa Model')\n",
    "plt.xlabel('Feature Importance')\n",
    "plt.tight_layout()\n",
    "plt.show()\n",
    "\n",
    "# Print the sample text\n",
    "print(f\"Sample text: {sample_text}\")"
   ]
  },
  {
   "cell_type": "markdown",
   "metadata": {},
   "source": [
    "# ANDREA CONTINUA DA QUI"
   ]
  },
  {
   "cell_type": "markdown",
   "metadata": {},
   "source": [
    "# (Task 2) Topic Modelling\n",
    "\n",
    "Usiamo LDA direi?"
   ]
  }
 ],
 "metadata": {
  "kernelspec": {
   "display_name": ".venv",
   "language": "python",
   "name": "python3"
  },
  "language_info": {
   "codemirror_mode": {
    "name": "ipython",
    "version": 3
   },
   "file_extension": ".py",
   "mimetype": "text/x-python",
   "name": "python",
   "nbconvert_exporter": "python",
   "pygments_lexer": "ipython3",
   "version": "3.11.9"
  }
 },
 "nbformat": 4,
 "nbformat_minor": 2
}
